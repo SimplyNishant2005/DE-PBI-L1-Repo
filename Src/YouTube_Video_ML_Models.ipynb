{
  "nbformat": 4,
  "nbformat_minor": 0,
  "metadata": {
    "colab": {
      "provenance": []
    },
    "kernelspec": {
      "name": "python3",
      "display_name": "Python 3"
    },
    "language_info": {
      "name": "python"
    }
  },
  "cells": [
    {
      "cell_type": "markdown",
      "source": [
        "**YouTube Video ML Models: Language, Category & Duration Classification**\n",
        "\n",
        "Description:\n",
        "\n",
        "Language Classification Model – predicts the language of a video based on its title and description.\n",
        "\n",
        "Category Classification Model – predicts video categories such as Education, Sports, Entertainment, and News.\n",
        "\n",
        "Duration Classification Model – labels videos as Short, Medium, or Large based on their duration.\n",
        "\n",
        "Features included:\n",
        "\n",
        "\n",
        "Text preprocessing with TF-IDF.\n",
        "\n",
        "\n",
        "Naive Bayes classification for all three models.\n",
        "\n",
        "\n",
        "Accuracy evaluation and confusion matrix visualizations for detailed insights.\n",
        "\n",
        "\n",
        "Visual comparison of model performances using bar charts and heatmaps.\n",
        "\n",
        "\n",
        "Robust handling of missing labels and duplicates in merged datasets."
      ],
      "metadata": {
        "id": "t8tsR73yLkAP"
      }
    },
    {
      "cell_type": "markdown",
      "source": [
        "**Importing Files and Load Data**"
      ],
      "metadata": {
        "id": "OChDaSOpKvej"
      }
    },
    {
      "cell_type": "code",
      "execution_count": 2,
      "metadata": {
        "id": "DatkahyOUeSi"
      },
      "outputs": [],
      "source": [
        "import pandas as pd\n",
        "import numpy as np\n",
        "df1=pd.read_csv(\"channel_master_cleaned.csv\")\n",
        "df2=pd.read_csv(\"video_summary_cleaned.csv\")"
      ]
    },
    {
      "cell_type": "code",
      "source": [
        "df1.head()"
      ],
      "metadata": {
        "colab": {
          "base_uri": "https://localhost:8080/",
          "height": 310
        },
        "id": "QHYYmxxkV5If",
        "outputId": "5458dc58-9054-409f-8f70-9075f820b2bc"
      },
      "execution_count": 4,
      "outputs": [
        {
          "output_type": "execute_result",
          "data": {
            "text/plain": [
              "                  Channelid  subscribercount                channelname  \\\n",
              "0  UCIx3RWYwikMlDiJeCEUbfEA        7170000.0            Wunderbar Films   \n",
              "1  UCLbdVvreihwZRL6kwuEUYsA       21100000.0          Think Music India   \n",
              "2  UCdwQOUt3ns-BSWlLFK-fEpA         370000.0                 Comedy One   \n",
              "3  UCzee67JnEcuvjErRyWP3GpQ       10000000.0             Saregama Tamil   \n",
              "4  UCCPWi_OwWMR5JTiujn7v-7g         540000.0  Tamil Gaming தமிழ் கேமிங்   \n",
              "\n",
              "                       title                   uploader  \\\n",
              "0            Wunderbar Films            Wunderbar Films   \n",
              "1          Think Music India          Think Music India   \n",
              "2                 Comedy One                 Comedy One   \n",
              "3             Saregama Tamil             Saregama Tamil   \n",
              "4  Tamil Gaming தமிழ் கேமிங்  Tamil Gaming தமிழ் கேமிங்   \n",
              "\n",
              "                                          channelurl  \\\n",
              "0  https://www.youtube.com/channel/UCIx3RWYwikMlD...   \n",
              "1  https://www.youtube.com/channel/UCLbdVvreihwZR...   \n",
              "2  https://www.youtube.com/channel/UCdwQOUt3ns-BS...   \n",
              "3  https://www.youtube.com/channel/UCzee67JnEcuvj...   \n",
              "4  https://www.youtube.com/channel/UCCPWi_OwWMR5J...   \n",
              "\n",
              "                                    shortdescription  \n",
              "0  This channel belongs to Wunderbar Films Wunder...  \n",
              "1  About Think Music - Official Channel The offic...  \n",
              "2  The Home of Funny!! In the hustle and bustle o...  \n",
              "3  Saregama India Limited - the one-stop destinat...  \n",
              "4  வணக்கம் இது தமிழ் கேமிங் நாங்கள் விவேக் மற்றும...  "
            ],
            "text/html": [
              "\n",
              "  <div id=\"df-3c3d7d29-3fcc-4db0-83e8-f8cac811c12a\" class=\"colab-df-container\">\n",
              "    <div>\n",
              "<style scoped>\n",
              "    .dataframe tbody tr th:only-of-type {\n",
              "        vertical-align: middle;\n",
              "    }\n",
              "\n",
              "    .dataframe tbody tr th {\n",
              "        vertical-align: top;\n",
              "    }\n",
              "\n",
              "    .dataframe thead th {\n",
              "        text-align: right;\n",
              "    }\n",
              "</style>\n",
              "<table border=\"1\" class=\"dataframe\">\n",
              "  <thead>\n",
              "    <tr style=\"text-align: right;\">\n",
              "      <th></th>\n",
              "      <th>Channelid</th>\n",
              "      <th>subscribercount</th>\n",
              "      <th>channelname</th>\n",
              "      <th>title</th>\n",
              "      <th>uploader</th>\n",
              "      <th>channelurl</th>\n",
              "      <th>shortdescription</th>\n",
              "    </tr>\n",
              "  </thead>\n",
              "  <tbody>\n",
              "    <tr>\n",
              "      <th>0</th>\n",
              "      <td>UCIx3RWYwikMlDiJeCEUbfEA</td>\n",
              "      <td>7170000.0</td>\n",
              "      <td>Wunderbar Films</td>\n",
              "      <td>Wunderbar Films</td>\n",
              "      <td>Wunderbar Films</td>\n",
              "      <td>https://www.youtube.com/channel/UCIx3RWYwikMlD...</td>\n",
              "      <td>This channel belongs to Wunderbar Films Wunder...</td>\n",
              "    </tr>\n",
              "    <tr>\n",
              "      <th>1</th>\n",
              "      <td>UCLbdVvreihwZRL6kwuEUYsA</td>\n",
              "      <td>21100000.0</td>\n",
              "      <td>Think Music India</td>\n",
              "      <td>Think Music India</td>\n",
              "      <td>Think Music India</td>\n",
              "      <td>https://www.youtube.com/channel/UCLbdVvreihwZR...</td>\n",
              "      <td>About Think Music - Official Channel The offic...</td>\n",
              "    </tr>\n",
              "    <tr>\n",
              "      <th>2</th>\n",
              "      <td>UCdwQOUt3ns-BSWlLFK-fEpA</td>\n",
              "      <td>370000.0</td>\n",
              "      <td>Comedy One</td>\n",
              "      <td>Comedy One</td>\n",
              "      <td>Comedy One</td>\n",
              "      <td>https://www.youtube.com/channel/UCdwQOUt3ns-BS...</td>\n",
              "      <td>The Home of Funny!! In the hustle and bustle o...</td>\n",
              "    </tr>\n",
              "    <tr>\n",
              "      <th>3</th>\n",
              "      <td>UCzee67JnEcuvjErRyWP3GpQ</td>\n",
              "      <td>10000000.0</td>\n",
              "      <td>Saregama Tamil</td>\n",
              "      <td>Saregama Tamil</td>\n",
              "      <td>Saregama Tamil</td>\n",
              "      <td>https://www.youtube.com/channel/UCzee67JnEcuvj...</td>\n",
              "      <td>Saregama India Limited - the one-stop destinat...</td>\n",
              "    </tr>\n",
              "    <tr>\n",
              "      <th>4</th>\n",
              "      <td>UCCPWi_OwWMR5JTiujn7v-7g</td>\n",
              "      <td>540000.0</td>\n",
              "      <td>Tamil Gaming தமிழ் கேமிங்</td>\n",
              "      <td>Tamil Gaming தமிழ் கேமிங்</td>\n",
              "      <td>Tamil Gaming தமிழ் கேமிங்</td>\n",
              "      <td>https://www.youtube.com/channel/UCCPWi_OwWMR5J...</td>\n",
              "      <td>வணக்கம் இது தமிழ் கேமிங் நாங்கள் விவேக் மற்றும...</td>\n",
              "    </tr>\n",
              "  </tbody>\n",
              "</table>\n",
              "</div>\n",
              "    <div class=\"colab-df-buttons\">\n",
              "\n",
              "  <div class=\"colab-df-container\">\n",
              "    <button class=\"colab-df-convert\" onclick=\"convertToInteractive('df-3c3d7d29-3fcc-4db0-83e8-f8cac811c12a')\"\n",
              "            title=\"Convert this dataframe to an interactive table.\"\n",
              "            style=\"display:none;\">\n",
              "\n",
              "  <svg xmlns=\"http://www.w3.org/2000/svg\" height=\"24px\" viewBox=\"0 -960 960 960\">\n",
              "    <path d=\"M120-120v-720h720v720H120Zm60-500h600v-160H180v160Zm220 220h160v-160H400v160Zm0 220h160v-160H400v160ZM180-400h160v-160H180v160Zm440 0h160v-160H620v160ZM180-180h160v-160H180v160Zm440 0h160v-160H620v160Z\"/>\n",
              "  </svg>\n",
              "    </button>\n",
              "\n",
              "  <style>\n",
              "    .colab-df-container {\n",
              "      display:flex;\n",
              "      gap: 12px;\n",
              "    }\n",
              "\n",
              "    .colab-df-convert {\n",
              "      background-color: #E8F0FE;\n",
              "      border: none;\n",
              "      border-radius: 50%;\n",
              "      cursor: pointer;\n",
              "      display: none;\n",
              "      fill: #1967D2;\n",
              "      height: 32px;\n",
              "      padding: 0 0 0 0;\n",
              "      width: 32px;\n",
              "    }\n",
              "\n",
              "    .colab-df-convert:hover {\n",
              "      background-color: #E2EBFA;\n",
              "      box-shadow: 0px 1px 2px rgba(60, 64, 67, 0.3), 0px 1px 3px 1px rgba(60, 64, 67, 0.15);\n",
              "      fill: #174EA6;\n",
              "    }\n",
              "\n",
              "    .colab-df-buttons div {\n",
              "      margin-bottom: 4px;\n",
              "    }\n",
              "\n",
              "    [theme=dark] .colab-df-convert {\n",
              "      background-color: #3B4455;\n",
              "      fill: #D2E3FC;\n",
              "    }\n",
              "\n",
              "    [theme=dark] .colab-df-convert:hover {\n",
              "      background-color: #434B5C;\n",
              "      box-shadow: 0px 1px 3px 1px rgba(0, 0, 0, 0.15);\n",
              "      filter: drop-shadow(0px 1px 2px rgba(0, 0, 0, 0.3));\n",
              "      fill: #FFFFFF;\n",
              "    }\n",
              "  </style>\n",
              "\n",
              "    <script>\n",
              "      const buttonEl =\n",
              "        document.querySelector('#df-3c3d7d29-3fcc-4db0-83e8-f8cac811c12a button.colab-df-convert');\n",
              "      buttonEl.style.display =\n",
              "        google.colab.kernel.accessAllowed ? 'block' : 'none';\n",
              "\n",
              "      async function convertToInteractive(key) {\n",
              "        const element = document.querySelector('#df-3c3d7d29-3fcc-4db0-83e8-f8cac811c12a');\n",
              "        const dataTable =\n",
              "          await google.colab.kernel.invokeFunction('convertToInteractive',\n",
              "                                                    [key], {});\n",
              "        if (!dataTable) return;\n",
              "\n",
              "        const docLinkHtml = 'Like what you see? Visit the ' +\n",
              "          '<a target=\"_blank\" href=https://colab.research.google.com/notebooks/data_table.ipynb>data table notebook</a>'\n",
              "          + ' to learn more about interactive tables.';\n",
              "        element.innerHTML = '';\n",
              "        dataTable['output_type'] = 'display_data';\n",
              "        await google.colab.output.renderOutput(dataTable, element);\n",
              "        const docLink = document.createElement('div');\n",
              "        docLink.innerHTML = docLinkHtml;\n",
              "        element.appendChild(docLink);\n",
              "      }\n",
              "    </script>\n",
              "  </div>\n",
              "\n",
              "\n",
              "    <div id=\"df-c002c632-83b8-43e4-8d17-349b85721c53\">\n",
              "      <button class=\"colab-df-quickchart\" onclick=\"quickchart('df-c002c632-83b8-43e4-8d17-349b85721c53')\"\n",
              "                title=\"Suggest charts\"\n",
              "                style=\"display:none;\">\n",
              "\n",
              "<svg xmlns=\"http://www.w3.org/2000/svg\" height=\"24px\"viewBox=\"0 0 24 24\"\n",
              "     width=\"24px\">\n",
              "    <g>\n",
              "        <path d=\"M19 3H5c-1.1 0-2 .9-2 2v14c0 1.1.9 2 2 2h14c1.1 0 2-.9 2-2V5c0-1.1-.9-2-2-2zM9 17H7v-7h2v7zm4 0h-2V7h2v10zm4 0h-2v-4h2v4z\"/>\n",
              "    </g>\n",
              "</svg>\n",
              "      </button>\n",
              "\n",
              "<style>\n",
              "  .colab-df-quickchart {\n",
              "      --bg-color: #E8F0FE;\n",
              "      --fill-color: #1967D2;\n",
              "      --hover-bg-color: #E2EBFA;\n",
              "      --hover-fill-color: #174EA6;\n",
              "      --disabled-fill-color: #AAA;\n",
              "      --disabled-bg-color: #DDD;\n",
              "  }\n",
              "\n",
              "  [theme=dark] .colab-df-quickchart {\n",
              "      --bg-color: #3B4455;\n",
              "      --fill-color: #D2E3FC;\n",
              "      --hover-bg-color: #434B5C;\n",
              "      --hover-fill-color: #FFFFFF;\n",
              "      --disabled-bg-color: #3B4455;\n",
              "      --disabled-fill-color: #666;\n",
              "  }\n",
              "\n",
              "  .colab-df-quickchart {\n",
              "    background-color: var(--bg-color);\n",
              "    border: none;\n",
              "    border-radius: 50%;\n",
              "    cursor: pointer;\n",
              "    display: none;\n",
              "    fill: var(--fill-color);\n",
              "    height: 32px;\n",
              "    padding: 0;\n",
              "    width: 32px;\n",
              "  }\n",
              "\n",
              "  .colab-df-quickchart:hover {\n",
              "    background-color: var(--hover-bg-color);\n",
              "    box-shadow: 0 1px 2px rgba(60, 64, 67, 0.3), 0 1px 3px 1px rgba(60, 64, 67, 0.15);\n",
              "    fill: var(--button-hover-fill-color);\n",
              "  }\n",
              "\n",
              "  .colab-df-quickchart-complete:disabled,\n",
              "  .colab-df-quickchart-complete:disabled:hover {\n",
              "    background-color: var(--disabled-bg-color);\n",
              "    fill: var(--disabled-fill-color);\n",
              "    box-shadow: none;\n",
              "  }\n",
              "\n",
              "  .colab-df-spinner {\n",
              "    border: 2px solid var(--fill-color);\n",
              "    border-color: transparent;\n",
              "    border-bottom-color: var(--fill-color);\n",
              "    animation:\n",
              "      spin 1s steps(1) infinite;\n",
              "  }\n",
              "\n",
              "  @keyframes spin {\n",
              "    0% {\n",
              "      border-color: transparent;\n",
              "      border-bottom-color: var(--fill-color);\n",
              "      border-left-color: var(--fill-color);\n",
              "    }\n",
              "    20% {\n",
              "      border-color: transparent;\n",
              "      border-left-color: var(--fill-color);\n",
              "      border-top-color: var(--fill-color);\n",
              "    }\n",
              "    30% {\n",
              "      border-color: transparent;\n",
              "      border-left-color: var(--fill-color);\n",
              "      border-top-color: var(--fill-color);\n",
              "      border-right-color: var(--fill-color);\n",
              "    }\n",
              "    40% {\n",
              "      border-color: transparent;\n",
              "      border-right-color: var(--fill-color);\n",
              "      border-top-color: var(--fill-color);\n",
              "    }\n",
              "    60% {\n",
              "      border-color: transparent;\n",
              "      border-right-color: var(--fill-color);\n",
              "    }\n",
              "    80% {\n",
              "      border-color: transparent;\n",
              "      border-right-color: var(--fill-color);\n",
              "      border-bottom-color: var(--fill-color);\n",
              "    }\n",
              "    90% {\n",
              "      border-color: transparent;\n",
              "      border-bottom-color: var(--fill-color);\n",
              "    }\n",
              "  }\n",
              "</style>\n",
              "\n",
              "      <script>\n",
              "        async function quickchart(key) {\n",
              "          const quickchartButtonEl =\n",
              "            document.querySelector('#' + key + ' button');\n",
              "          quickchartButtonEl.disabled = true;  // To prevent multiple clicks.\n",
              "          quickchartButtonEl.classList.add('colab-df-spinner');\n",
              "          try {\n",
              "            const charts = await google.colab.kernel.invokeFunction(\n",
              "                'suggestCharts', [key], {});\n",
              "          } catch (error) {\n",
              "            console.error('Error during call to suggestCharts:', error);\n",
              "          }\n",
              "          quickchartButtonEl.classList.remove('colab-df-spinner');\n",
              "          quickchartButtonEl.classList.add('colab-df-quickchart-complete');\n",
              "        }\n",
              "        (() => {\n",
              "          let quickchartButtonEl =\n",
              "            document.querySelector('#df-c002c632-83b8-43e4-8d17-349b85721c53 button');\n",
              "          quickchartButtonEl.style.display =\n",
              "            google.colab.kernel.accessAllowed ? 'block' : 'none';\n",
              "        })();\n",
              "      </script>\n",
              "    </div>\n",
              "\n",
              "    </div>\n",
              "  </div>\n"
            ],
            "application/vnd.google.colaboratory.intrinsic+json": {
              "type": "dataframe",
              "variable_name": "df1",
              "summary": "{\n  \"name\": \"df1\",\n  \"rows\": 4333,\n  \"fields\": [\n    {\n      \"column\": \"Channelid\",\n      \"properties\": {\n        \"dtype\": \"string\",\n        \"num_unique_values\": 4333,\n        \"samples\": [\n          \"UCpYy7WbHFumGMRaV1MIB1Vw\",\n          \"UCKpHL_CgcqRvM0T-To7tVYQ\",\n          \"UCHms7lGqOxsy6NoRTpljWIg\"\n        ],\n        \"semantic_type\": \"\",\n        \"description\": \"\"\n      }\n    },\n    {\n      \"column\": \"subscribercount\",\n      \"properties\": {\n        \"dtype\": \"number\",\n        \"std\": 7665026.736866627,\n        \"min\": 2.0,\n        \"max\": 301000000.0,\n        \"num_unique_values\": 2460,\n        \"samples\": [\n          249000.0,\n          80300.0,\n          29200.0\n        ],\n        \"semantic_type\": \"\",\n        \"description\": \"\"\n      }\n    },\n    {\n      \"column\": \"channelname\",\n      \"properties\": {\n        \"dtype\": \"string\",\n        \"num_unique_values\": 4331,\n        \"samples\": [\n          \"Swarn Dhuri\",\n          \"KL 59 A ONE\",\n          \"Mayu Dhanakwada\"\n        ],\n        \"semantic_type\": \"\",\n        \"description\": \"\"\n      }\n    },\n    {\n      \"column\": \"title\",\n      \"properties\": {\n        \"dtype\": \"string\",\n        \"num_unique_values\": 4331,\n        \"samples\": [\n          \"Swarn Dhuri\",\n          \"KL 59 A ONE\",\n          \"Mayu Dhanakwada \"\n        ],\n        \"semantic_type\": \"\",\n        \"description\": \"\"\n      }\n    },\n    {\n      \"column\": \"uploader\",\n      \"properties\": {\n        \"dtype\": \"string\",\n        \"num_unique_values\": 4331,\n        \"samples\": [\n          \"Swarn Dhuri\",\n          \"KL 59 A ONE\",\n          \"Mayu Dhanakwada\"\n        ],\n        \"semantic_type\": \"\",\n        \"description\": \"\"\n      }\n    },\n    {\n      \"column\": \"channelurl\",\n      \"properties\": {\n        \"dtype\": \"string\",\n        \"num_unique_values\": 4333,\n        \"samples\": [\n          \"https://www.youtube.com/channel/UCpYy7WbHFumGMRaV1MIB1Vw\",\n          \"https://www.youtube.com/channel/UCKpHL_CgcqRvM0T-To7tVYQ\",\n          \"https://www.youtube.com/channel/UCHms7lGqOxsy6NoRTpljWIg\"\n        ],\n        \"semantic_type\": \"\",\n        \"description\": \"\"\n      }\n    },\n    {\n      \"column\": \"shortdescription\",\n      \"properties\": {\n        \"dtype\": \"string\",\n        \"num_unique_values\": 3775,\n        \"samples\": [\n          \"No description\",\n          \"Welcome to my youtube channel, plz subscribe my channel and see something new video for entertainment \\ud83d\\ude4f\\u2764\\ufe0f\\ud83d\\ude07 Following content on this channel 1. New shorts 2. New songs 3.New dj track song 4.Entertainment videos 5. and other Plz follow me:-\",\n          \"\\\" Education is the most powerful weapon which you can use to change the world \\\"\"\n        ],\n        \"semantic_type\": \"\",\n        \"description\": \"\"\n      }\n    }\n  ]\n}"
            }
          },
          "metadata": {},
          "execution_count": 4
        }
      ]
    },
    {
      "cell_type": "code",
      "source": [
        "df2.head()"
      ],
      "metadata": {
        "colab": {
          "base_uri": "https://localhost:8080/",
          "height": 293
        },
        "id": "PQap8oucWayg",
        "outputId": "89701b69-d416-4ff2-bb0d-c9cf1d939ada"
      },
      "execution_count": 5,
      "outputs": [
        {
          "output_type": "execute_result",
          "data": {
            "text/plain": [
              "      video_id                                              title  \\\n",
              "0  S4_guCIHpUM  Anything But Kalyanam | Tamil Web Series | Eng...   \n",
              "1  mEYVfy8MvZ0  3 - Kannazhaga Tamil Lyric | Dhanush, Shruti |...   \n",
              "2  jQ55i6NJTG4                                      Tamil Letters   \n",
              "3  kCjrcVnyLj8           Learn Tamil Write and Pronounce அ Letter   \n",
              "4  TzNYi0NZNnw                    TVK’s Edhirkalam by ACHU Josiam   \n",
              "\n",
              "                           uploader                channel_id  \\\n",
              "0        TICK Entertainment - Tamil  UCQhqq-oQ1ZYo2etaG0q68EA   \n",
              "1                SonyMusicSouthVEVO  UCTNtRdBAiZtHP9w7JinzfUg   \n",
              "2  Safras views on competitive exam  UC7YnNWFabe8nhxcNlu7h7Jw   \n",
              "3                        Want2Learn  UCT4bT6KtE_8Z3U78bwIu71w   \n",
              "4                          ABN Achu  UCiBhuDqvizh86j2vK3k4JrA   \n",
              "\n",
              "                                     video_url  duration_sec  view_count  \\\n",
              "0   https://www.youtube.com/shorts/S4_guCIHpUM            35     5918004   \n",
              "1  https://www.youtube.com/watch?v=mEYVfy8MvZ0           209    24769240   \n",
              "2   https://www.youtube.com/shorts/jQ55i6NJTG4            14      796286   \n",
              "3   https://www.youtube.com/shorts/kCjrcVnyLj8             5       17823   \n",
              "4   https://www.youtube.com/shorts/TzNYi0NZNnw            23    10605594   \n",
              "\n",
              "  language  \n",
              "0    tamil  \n",
              "1    tamil  \n",
              "2    tamil  \n",
              "3    tamil  \n",
              "4    tamil  "
            ],
            "text/html": [
              "\n",
              "  <div id=\"df-f459516f-7a65-4d2b-85c8-6d63da069c4e\" class=\"colab-df-container\">\n",
              "    <div>\n",
              "<style scoped>\n",
              "    .dataframe tbody tr th:only-of-type {\n",
              "        vertical-align: middle;\n",
              "    }\n",
              "\n",
              "    .dataframe tbody tr th {\n",
              "        vertical-align: top;\n",
              "    }\n",
              "\n",
              "    .dataframe thead th {\n",
              "        text-align: right;\n",
              "    }\n",
              "</style>\n",
              "<table border=\"1\" class=\"dataframe\">\n",
              "  <thead>\n",
              "    <tr style=\"text-align: right;\">\n",
              "      <th></th>\n",
              "      <th>video_id</th>\n",
              "      <th>title</th>\n",
              "      <th>uploader</th>\n",
              "      <th>channel_id</th>\n",
              "      <th>video_url</th>\n",
              "      <th>duration_sec</th>\n",
              "      <th>view_count</th>\n",
              "      <th>language</th>\n",
              "    </tr>\n",
              "  </thead>\n",
              "  <tbody>\n",
              "    <tr>\n",
              "      <th>0</th>\n",
              "      <td>S4_guCIHpUM</td>\n",
              "      <td>Anything But Kalyanam | Tamil Web Series | Eng...</td>\n",
              "      <td>TICK Entertainment - Tamil</td>\n",
              "      <td>UCQhqq-oQ1ZYo2etaG0q68EA</td>\n",
              "      <td>https://www.youtube.com/shorts/S4_guCIHpUM</td>\n",
              "      <td>35</td>\n",
              "      <td>5918004</td>\n",
              "      <td>tamil</td>\n",
              "    </tr>\n",
              "    <tr>\n",
              "      <th>1</th>\n",
              "      <td>mEYVfy8MvZ0</td>\n",
              "      <td>3 - Kannazhaga Tamil Lyric | Dhanush, Shruti |...</td>\n",
              "      <td>SonyMusicSouthVEVO</td>\n",
              "      <td>UCTNtRdBAiZtHP9w7JinzfUg</td>\n",
              "      <td>https://www.youtube.com/watch?v=mEYVfy8MvZ0</td>\n",
              "      <td>209</td>\n",
              "      <td>24769240</td>\n",
              "      <td>tamil</td>\n",
              "    </tr>\n",
              "    <tr>\n",
              "      <th>2</th>\n",
              "      <td>jQ55i6NJTG4</td>\n",
              "      <td>Tamil Letters</td>\n",
              "      <td>Safras views on competitive exam</td>\n",
              "      <td>UC7YnNWFabe8nhxcNlu7h7Jw</td>\n",
              "      <td>https://www.youtube.com/shorts/jQ55i6NJTG4</td>\n",
              "      <td>14</td>\n",
              "      <td>796286</td>\n",
              "      <td>tamil</td>\n",
              "    </tr>\n",
              "    <tr>\n",
              "      <th>3</th>\n",
              "      <td>kCjrcVnyLj8</td>\n",
              "      <td>Learn Tamil Write and Pronounce அ Letter</td>\n",
              "      <td>Want2Learn</td>\n",
              "      <td>UCT4bT6KtE_8Z3U78bwIu71w</td>\n",
              "      <td>https://www.youtube.com/shorts/kCjrcVnyLj8</td>\n",
              "      <td>5</td>\n",
              "      <td>17823</td>\n",
              "      <td>tamil</td>\n",
              "    </tr>\n",
              "    <tr>\n",
              "      <th>4</th>\n",
              "      <td>TzNYi0NZNnw</td>\n",
              "      <td>TVK’s Edhirkalam by ACHU Josiam</td>\n",
              "      <td>ABN Achu</td>\n",
              "      <td>UCiBhuDqvizh86j2vK3k4JrA</td>\n",
              "      <td>https://www.youtube.com/shorts/TzNYi0NZNnw</td>\n",
              "      <td>23</td>\n",
              "      <td>10605594</td>\n",
              "      <td>tamil</td>\n",
              "    </tr>\n",
              "  </tbody>\n",
              "</table>\n",
              "</div>\n",
              "    <div class=\"colab-df-buttons\">\n",
              "\n",
              "  <div class=\"colab-df-container\">\n",
              "    <button class=\"colab-df-convert\" onclick=\"convertToInteractive('df-f459516f-7a65-4d2b-85c8-6d63da069c4e')\"\n",
              "            title=\"Convert this dataframe to an interactive table.\"\n",
              "            style=\"display:none;\">\n",
              "\n",
              "  <svg xmlns=\"http://www.w3.org/2000/svg\" height=\"24px\" viewBox=\"0 -960 960 960\">\n",
              "    <path d=\"M120-120v-720h720v720H120Zm60-500h600v-160H180v160Zm220 220h160v-160H400v160Zm0 220h160v-160H400v160ZM180-400h160v-160H180v160Zm440 0h160v-160H620v160ZM180-180h160v-160H180v160Zm440 0h160v-160H620v160Z\"/>\n",
              "  </svg>\n",
              "    </button>\n",
              "\n",
              "  <style>\n",
              "    .colab-df-container {\n",
              "      display:flex;\n",
              "      gap: 12px;\n",
              "    }\n",
              "\n",
              "    .colab-df-convert {\n",
              "      background-color: #E8F0FE;\n",
              "      border: none;\n",
              "      border-radius: 50%;\n",
              "      cursor: pointer;\n",
              "      display: none;\n",
              "      fill: #1967D2;\n",
              "      height: 32px;\n",
              "      padding: 0 0 0 0;\n",
              "      width: 32px;\n",
              "    }\n",
              "\n",
              "    .colab-df-convert:hover {\n",
              "      background-color: #E2EBFA;\n",
              "      box-shadow: 0px 1px 2px rgba(60, 64, 67, 0.3), 0px 1px 3px 1px rgba(60, 64, 67, 0.15);\n",
              "      fill: #174EA6;\n",
              "    }\n",
              "\n",
              "    .colab-df-buttons div {\n",
              "      margin-bottom: 4px;\n",
              "    }\n",
              "\n",
              "    [theme=dark] .colab-df-convert {\n",
              "      background-color: #3B4455;\n",
              "      fill: #D2E3FC;\n",
              "    }\n",
              "\n",
              "    [theme=dark] .colab-df-convert:hover {\n",
              "      background-color: #434B5C;\n",
              "      box-shadow: 0px 1px 3px 1px rgba(0, 0, 0, 0.15);\n",
              "      filter: drop-shadow(0px 1px 2px rgba(0, 0, 0, 0.3));\n",
              "      fill: #FFFFFF;\n",
              "    }\n",
              "  </style>\n",
              "\n",
              "    <script>\n",
              "      const buttonEl =\n",
              "        document.querySelector('#df-f459516f-7a65-4d2b-85c8-6d63da069c4e button.colab-df-convert');\n",
              "      buttonEl.style.display =\n",
              "        google.colab.kernel.accessAllowed ? 'block' : 'none';\n",
              "\n",
              "      async function convertToInteractive(key) {\n",
              "        const element = document.querySelector('#df-f459516f-7a65-4d2b-85c8-6d63da069c4e');\n",
              "        const dataTable =\n",
              "          await google.colab.kernel.invokeFunction('convertToInteractive',\n",
              "                                                    [key], {});\n",
              "        if (!dataTable) return;\n",
              "\n",
              "        const docLinkHtml = 'Like what you see? Visit the ' +\n",
              "          '<a target=\"_blank\" href=https://colab.research.google.com/notebooks/data_table.ipynb>data table notebook</a>'\n",
              "          + ' to learn more about interactive tables.';\n",
              "        element.innerHTML = '';\n",
              "        dataTable['output_type'] = 'display_data';\n",
              "        await google.colab.output.renderOutput(dataTable, element);\n",
              "        const docLink = document.createElement('div');\n",
              "        docLink.innerHTML = docLinkHtml;\n",
              "        element.appendChild(docLink);\n",
              "      }\n",
              "    </script>\n",
              "  </div>\n",
              "\n",
              "\n",
              "    <div id=\"df-2e9465ff-2324-468e-abcb-28c4ae0fb09b\">\n",
              "      <button class=\"colab-df-quickchart\" onclick=\"quickchart('df-2e9465ff-2324-468e-abcb-28c4ae0fb09b')\"\n",
              "                title=\"Suggest charts\"\n",
              "                style=\"display:none;\">\n",
              "\n",
              "<svg xmlns=\"http://www.w3.org/2000/svg\" height=\"24px\"viewBox=\"0 0 24 24\"\n",
              "     width=\"24px\">\n",
              "    <g>\n",
              "        <path d=\"M19 3H5c-1.1 0-2 .9-2 2v14c0 1.1.9 2 2 2h14c1.1 0 2-.9 2-2V5c0-1.1-.9-2-2-2zM9 17H7v-7h2v7zm4 0h-2V7h2v10zm4 0h-2v-4h2v4z\"/>\n",
              "    </g>\n",
              "</svg>\n",
              "      </button>\n",
              "\n",
              "<style>\n",
              "  .colab-df-quickchart {\n",
              "      --bg-color: #E8F0FE;\n",
              "      --fill-color: #1967D2;\n",
              "      --hover-bg-color: #E2EBFA;\n",
              "      --hover-fill-color: #174EA6;\n",
              "      --disabled-fill-color: #AAA;\n",
              "      --disabled-bg-color: #DDD;\n",
              "  }\n",
              "\n",
              "  [theme=dark] .colab-df-quickchart {\n",
              "      --bg-color: #3B4455;\n",
              "      --fill-color: #D2E3FC;\n",
              "      --hover-bg-color: #434B5C;\n",
              "      --hover-fill-color: #FFFFFF;\n",
              "      --disabled-bg-color: #3B4455;\n",
              "      --disabled-fill-color: #666;\n",
              "  }\n",
              "\n",
              "  .colab-df-quickchart {\n",
              "    background-color: var(--bg-color);\n",
              "    border: none;\n",
              "    border-radius: 50%;\n",
              "    cursor: pointer;\n",
              "    display: none;\n",
              "    fill: var(--fill-color);\n",
              "    height: 32px;\n",
              "    padding: 0;\n",
              "    width: 32px;\n",
              "  }\n",
              "\n",
              "  .colab-df-quickchart:hover {\n",
              "    background-color: var(--hover-bg-color);\n",
              "    box-shadow: 0 1px 2px rgba(60, 64, 67, 0.3), 0 1px 3px 1px rgba(60, 64, 67, 0.15);\n",
              "    fill: var(--button-hover-fill-color);\n",
              "  }\n",
              "\n",
              "  .colab-df-quickchart-complete:disabled,\n",
              "  .colab-df-quickchart-complete:disabled:hover {\n",
              "    background-color: var(--disabled-bg-color);\n",
              "    fill: var(--disabled-fill-color);\n",
              "    box-shadow: none;\n",
              "  }\n",
              "\n",
              "  .colab-df-spinner {\n",
              "    border: 2px solid var(--fill-color);\n",
              "    border-color: transparent;\n",
              "    border-bottom-color: var(--fill-color);\n",
              "    animation:\n",
              "      spin 1s steps(1) infinite;\n",
              "  }\n",
              "\n",
              "  @keyframes spin {\n",
              "    0% {\n",
              "      border-color: transparent;\n",
              "      border-bottom-color: var(--fill-color);\n",
              "      border-left-color: var(--fill-color);\n",
              "    }\n",
              "    20% {\n",
              "      border-color: transparent;\n",
              "      border-left-color: var(--fill-color);\n",
              "      border-top-color: var(--fill-color);\n",
              "    }\n",
              "    30% {\n",
              "      border-color: transparent;\n",
              "      border-left-color: var(--fill-color);\n",
              "      border-top-color: var(--fill-color);\n",
              "      border-right-color: var(--fill-color);\n",
              "    }\n",
              "    40% {\n",
              "      border-color: transparent;\n",
              "      border-right-color: var(--fill-color);\n",
              "      border-top-color: var(--fill-color);\n",
              "    }\n",
              "    60% {\n",
              "      border-color: transparent;\n",
              "      border-right-color: var(--fill-color);\n",
              "    }\n",
              "    80% {\n",
              "      border-color: transparent;\n",
              "      border-right-color: var(--fill-color);\n",
              "      border-bottom-color: var(--fill-color);\n",
              "    }\n",
              "    90% {\n",
              "      border-color: transparent;\n",
              "      border-bottom-color: var(--fill-color);\n",
              "    }\n",
              "  }\n",
              "</style>\n",
              "\n",
              "      <script>\n",
              "        async function quickchart(key) {\n",
              "          const quickchartButtonEl =\n",
              "            document.querySelector('#' + key + ' button');\n",
              "          quickchartButtonEl.disabled = true;  // To prevent multiple clicks.\n",
              "          quickchartButtonEl.classList.add('colab-df-spinner');\n",
              "          try {\n",
              "            const charts = await google.colab.kernel.invokeFunction(\n",
              "                'suggestCharts', [key], {});\n",
              "          } catch (error) {\n",
              "            console.error('Error during call to suggestCharts:', error);\n",
              "          }\n",
              "          quickchartButtonEl.classList.remove('colab-df-spinner');\n",
              "          quickchartButtonEl.classList.add('colab-df-quickchart-complete');\n",
              "        }\n",
              "        (() => {\n",
              "          let quickchartButtonEl =\n",
              "            document.querySelector('#df-2e9465ff-2324-468e-abcb-28c4ae0fb09b button');\n",
              "          quickchartButtonEl.style.display =\n",
              "            google.colab.kernel.accessAllowed ? 'block' : 'none';\n",
              "        })();\n",
              "      </script>\n",
              "    </div>\n",
              "\n",
              "    </div>\n",
              "  </div>\n"
            ],
            "application/vnd.google.colaboratory.intrinsic+json": {
              "type": "dataframe",
              "variable_name": "df2",
              "summary": "{\n  \"name\": \"df2\",\n  \"rows\": 6143,\n  \"fields\": [\n    {\n      \"column\": \"video_id\",\n      \"properties\": {\n        \"dtype\": \"string\",\n        \"num_unique_values\": 6143,\n        \"samples\": [\n          \"BvYhDrl7QOc\",\n          \"7jMNpnQel74\",\n          \"1e2iIPtYthQ\"\n        ],\n        \"semantic_type\": \"\",\n        \"description\": \"\"\n      }\n    },\n    {\n      \"column\": \"title\",\n      \"properties\": {\n        \"dtype\": \"string\",\n        \"num_unique_values\": 6143,\n        \"samples\": [\n          \"Kaapaado Dyavre | Elumale | Mangli | Raanna | Priyanka Achar | D Imman | Tharun Sudhir | Punit\",\n          \"Sami Yusuf  Hasbi Rabbi (With Urdu English Translation)\",\n          \"Independence Day Event | IPF Abu dhabi | K Annamalai | Tamilnadu BJP | #annamalai #tnbjp\"\n        ],\n        \"semantic_type\": \"\",\n        \"description\": \"\"\n      }\n    },\n    {\n      \"column\": \"uploader\",\n      \"properties\": {\n        \"dtype\": \"string\",\n        \"num_unique_values\": 4207,\n        \"samples\": [\n          \"\\u0905\\u0928\\u0902\\u0924 \\ud83d\\udd49\\ufe0f\",\n          \"Kakali vlogs \",\n          \"AmericaMaGujarati\"\n        ],\n        \"semantic_type\": \"\",\n        \"description\": \"\"\n      }\n    },\n    {\n      \"column\": \"channel_id\",\n      \"properties\": {\n        \"dtype\": \"string\",\n        \"num_unique_values\": 4208,\n        \"samples\": [\n          \"UCO2heO36yUblxo42ABPSO5w\",\n          \"UCK4txvyZUWObRT8dYoOFp8g\",\n          \"UCIunIy--3E_IQpOvnZgj2qQ\"\n        ],\n        \"semantic_type\": \"\",\n        \"description\": \"\"\n      }\n    },\n    {\n      \"column\": \"video_url\",\n      \"properties\": {\n        \"dtype\": \"string\",\n        \"num_unique_values\": 6143,\n        \"samples\": [\n          \"https://www.youtube.com/watch?v=BvYhDrl7QOc\",\n          \"https://www.youtube.com/watch?v=7jMNpnQel74\",\n          \"https://www.youtube.com/watch?v=1e2iIPtYthQ\"\n        ],\n        \"semantic_type\": \"\",\n        \"description\": \"\"\n      }\n    },\n    {\n      \"column\": \"duration_sec\",\n      \"properties\": {\n        \"dtype\": \"number\",\n        \"std\": 3385,\n        \"min\": 4,\n        \"max\": 65365,\n        \"num_unique_values\": 1754,\n        \"samples\": [\n          419,\n          9369,\n          6363\n        ],\n        \"semantic_type\": \"\",\n        \"description\": \"\"\n      }\n    },\n    {\n      \"column\": \"view_count\",\n      \"properties\": {\n        \"dtype\": \"number\",\n        \"std\": 76532339,\n        \"min\": 0,\n        \"max\": 1608304805,\n        \"num_unique_values\": 5949,\n        \"samples\": [\n          15360890,\n          224798,\n          975982\n        ],\n        \"semantic_type\": \"\",\n        \"description\": \"\"\n      }\n    },\n    {\n      \"column\": \"language\",\n      \"properties\": {\n        \"dtype\": \"category\",\n        \"num_unique_values\": 13,\n        \"samples\": [\n          \"urdu\",\n          \"odia\",\n          \"tamil\"\n        ],\n        \"semantic_type\": \"\",\n        \"description\": \"\"\n      }\n    }\n  ]\n}"
            }
          },
          "metadata": {},
          "execution_count": 5
        }
      ]
    },
    {
      "cell_type": "markdown",
      "source": [
        "Check empty rows Columns in df1 and df2"
      ],
      "metadata": {
        "id": "ahxUIEpKLCXg"
      }
    },
    {
      "cell_type": "code",
      "source": [
        "df1.isna().sum()"
      ],
      "metadata": {
        "colab": {
          "base_uri": "https://localhost:8080/",
          "height": 303
        },
        "id": "tiZzxUtRWqhG",
        "outputId": "7ea68e45-2298-466e-ea50-97cb154e2918"
      },
      "execution_count": 9,
      "outputs": [
        {
          "output_type": "execute_result",
          "data": {
            "text/plain": [
              "Channelid           0\n",
              "subscribercount     0\n",
              "channelname         0\n",
              "title               0\n",
              "uploader            0\n",
              "channelurl          0\n",
              "shortdescription    0\n",
              "dtype: int64"
            ],
            "text/html": [
              "<div>\n",
              "<style scoped>\n",
              "    .dataframe tbody tr th:only-of-type {\n",
              "        vertical-align: middle;\n",
              "    }\n",
              "\n",
              "    .dataframe tbody tr th {\n",
              "        vertical-align: top;\n",
              "    }\n",
              "\n",
              "    .dataframe thead th {\n",
              "        text-align: right;\n",
              "    }\n",
              "</style>\n",
              "<table border=\"1\" class=\"dataframe\">\n",
              "  <thead>\n",
              "    <tr style=\"text-align: right;\">\n",
              "      <th></th>\n",
              "      <th>0</th>\n",
              "    </tr>\n",
              "  </thead>\n",
              "  <tbody>\n",
              "    <tr>\n",
              "      <th>Channelid</th>\n",
              "      <td>0</td>\n",
              "    </tr>\n",
              "    <tr>\n",
              "      <th>subscribercount</th>\n",
              "      <td>0</td>\n",
              "    </tr>\n",
              "    <tr>\n",
              "      <th>channelname</th>\n",
              "      <td>0</td>\n",
              "    </tr>\n",
              "    <tr>\n",
              "      <th>title</th>\n",
              "      <td>0</td>\n",
              "    </tr>\n",
              "    <tr>\n",
              "      <th>uploader</th>\n",
              "      <td>0</td>\n",
              "    </tr>\n",
              "    <tr>\n",
              "      <th>channelurl</th>\n",
              "      <td>0</td>\n",
              "    </tr>\n",
              "    <tr>\n",
              "      <th>shortdescription</th>\n",
              "      <td>0</td>\n",
              "    </tr>\n",
              "  </tbody>\n",
              "</table>\n",
              "</div><br><label><b>dtype:</b> int64</label>"
            ]
          },
          "metadata": {},
          "execution_count": 9
        }
      ]
    },
    {
      "cell_type": "code",
      "source": [
        "df2.isna().sum()"
      ],
      "metadata": {
        "colab": {
          "base_uri": "https://localhost:8080/",
          "height": 335
        },
        "id": "Yq46PytKXJnf",
        "outputId": "2e09898d-a16d-4c89-e0cc-a02c12325ad8"
      },
      "execution_count": 10,
      "outputs": [
        {
          "output_type": "execute_result",
          "data": {
            "text/plain": [
              "video_id        0\n",
              "title           0\n",
              "uploader        0\n",
              "channel_id      0\n",
              "video_url       0\n",
              "duration_sec    0\n",
              "view_count      0\n",
              "language        0\n",
              "dtype: int64"
            ],
            "text/html": [
              "<div>\n",
              "<style scoped>\n",
              "    .dataframe tbody tr th:only-of-type {\n",
              "        vertical-align: middle;\n",
              "    }\n",
              "\n",
              "    .dataframe tbody tr th {\n",
              "        vertical-align: top;\n",
              "    }\n",
              "\n",
              "    .dataframe thead th {\n",
              "        text-align: right;\n",
              "    }\n",
              "</style>\n",
              "<table border=\"1\" class=\"dataframe\">\n",
              "  <thead>\n",
              "    <tr style=\"text-align: right;\">\n",
              "      <th></th>\n",
              "      <th>0</th>\n",
              "    </tr>\n",
              "  </thead>\n",
              "  <tbody>\n",
              "    <tr>\n",
              "      <th>video_id</th>\n",
              "      <td>0</td>\n",
              "    </tr>\n",
              "    <tr>\n",
              "      <th>title</th>\n",
              "      <td>0</td>\n",
              "    </tr>\n",
              "    <tr>\n",
              "      <th>uploader</th>\n",
              "      <td>0</td>\n",
              "    </tr>\n",
              "    <tr>\n",
              "      <th>channel_id</th>\n",
              "      <td>0</td>\n",
              "    </tr>\n",
              "    <tr>\n",
              "      <th>video_url</th>\n",
              "      <td>0</td>\n",
              "    </tr>\n",
              "    <tr>\n",
              "      <th>duration_sec</th>\n",
              "      <td>0</td>\n",
              "    </tr>\n",
              "    <tr>\n",
              "      <th>view_count</th>\n",
              "      <td>0</td>\n",
              "    </tr>\n",
              "    <tr>\n",
              "      <th>language</th>\n",
              "      <td>0</td>\n",
              "    </tr>\n",
              "  </tbody>\n",
              "</table>\n",
              "</div><br><label><b>dtype:</b> int64</label>"
            ]
          },
          "metadata": {},
          "execution_count": 10
        }
      ]
    },
    {
      "cell_type": "markdown",
      "source": [
        "Check duplicate values in dataframes"
      ],
      "metadata": {
        "id": "fX0ZA_sZLMfJ"
      }
    },
    {
      "cell_type": "code",
      "source": [
        "df1.duplicated()"
      ],
      "metadata": {
        "colab": {
          "base_uri": "https://localhost:8080/",
          "height": 458
        },
        "id": "e-uzHtYTXtYE",
        "outputId": "845d3082-c14b-4857-cbf2-06e82a943fbc"
      },
      "execution_count": 11,
      "outputs": [
        {
          "output_type": "execute_result",
          "data": {
            "text/plain": [
              "0       False\n",
              "1       False\n",
              "2       False\n",
              "3       False\n",
              "4       False\n",
              "        ...  \n",
              "4328    False\n",
              "4329    False\n",
              "4330    False\n",
              "4331    False\n",
              "4332    False\n",
              "Length: 4333, dtype: bool"
            ],
            "text/html": [
              "<div>\n",
              "<style scoped>\n",
              "    .dataframe tbody tr th:only-of-type {\n",
              "        vertical-align: middle;\n",
              "    }\n",
              "\n",
              "    .dataframe tbody tr th {\n",
              "        vertical-align: top;\n",
              "    }\n",
              "\n",
              "    .dataframe thead th {\n",
              "        text-align: right;\n",
              "    }\n",
              "</style>\n",
              "<table border=\"1\" class=\"dataframe\">\n",
              "  <thead>\n",
              "    <tr style=\"text-align: right;\">\n",
              "      <th></th>\n",
              "      <th>0</th>\n",
              "    </tr>\n",
              "  </thead>\n",
              "  <tbody>\n",
              "    <tr>\n",
              "      <th>0</th>\n",
              "      <td>False</td>\n",
              "    </tr>\n",
              "    <tr>\n",
              "      <th>1</th>\n",
              "      <td>False</td>\n",
              "    </tr>\n",
              "    <tr>\n",
              "      <th>2</th>\n",
              "      <td>False</td>\n",
              "    </tr>\n",
              "    <tr>\n",
              "      <th>3</th>\n",
              "      <td>False</td>\n",
              "    </tr>\n",
              "    <tr>\n",
              "      <th>4</th>\n",
              "      <td>False</td>\n",
              "    </tr>\n",
              "    <tr>\n",
              "      <th>...</th>\n",
              "      <td>...</td>\n",
              "    </tr>\n",
              "    <tr>\n",
              "      <th>4328</th>\n",
              "      <td>False</td>\n",
              "    </tr>\n",
              "    <tr>\n",
              "      <th>4329</th>\n",
              "      <td>False</td>\n",
              "    </tr>\n",
              "    <tr>\n",
              "      <th>4330</th>\n",
              "      <td>False</td>\n",
              "    </tr>\n",
              "    <tr>\n",
              "      <th>4331</th>\n",
              "      <td>False</td>\n",
              "    </tr>\n",
              "    <tr>\n",
              "      <th>4332</th>\n",
              "      <td>False</td>\n",
              "    </tr>\n",
              "  </tbody>\n",
              "</table>\n",
              "<p>4333 rows × 1 columns</p>\n",
              "</div><br><label><b>dtype:</b> bool</label>"
            ]
          },
          "metadata": {},
          "execution_count": 11
        }
      ]
    },
    {
      "cell_type": "code",
      "source": [
        "df2.duplicated()"
      ],
      "metadata": {
        "colab": {
          "base_uri": "https://localhost:8080/",
          "height": 458
        },
        "id": "Wkrjvq0RX6DU",
        "outputId": "d2861e11-5cc5-4133-c586-df4d9dde6aea"
      },
      "execution_count": 12,
      "outputs": [
        {
          "output_type": "execute_result",
          "data": {
            "text/plain": [
              "0       False\n",
              "1       False\n",
              "2       False\n",
              "3       False\n",
              "4       False\n",
              "        ...  \n",
              "6138    False\n",
              "6139    False\n",
              "6140    False\n",
              "6141    False\n",
              "6142    False\n",
              "Length: 6143, dtype: bool"
            ],
            "text/html": [
              "<div>\n",
              "<style scoped>\n",
              "    .dataframe tbody tr th:only-of-type {\n",
              "        vertical-align: middle;\n",
              "    }\n",
              "\n",
              "    .dataframe tbody tr th {\n",
              "        vertical-align: top;\n",
              "    }\n",
              "\n",
              "    .dataframe thead th {\n",
              "        text-align: right;\n",
              "    }\n",
              "</style>\n",
              "<table border=\"1\" class=\"dataframe\">\n",
              "  <thead>\n",
              "    <tr style=\"text-align: right;\">\n",
              "      <th></th>\n",
              "      <th>0</th>\n",
              "    </tr>\n",
              "  </thead>\n",
              "  <tbody>\n",
              "    <tr>\n",
              "      <th>0</th>\n",
              "      <td>False</td>\n",
              "    </tr>\n",
              "    <tr>\n",
              "      <th>1</th>\n",
              "      <td>False</td>\n",
              "    </tr>\n",
              "    <tr>\n",
              "      <th>2</th>\n",
              "      <td>False</td>\n",
              "    </tr>\n",
              "    <tr>\n",
              "      <th>3</th>\n",
              "      <td>False</td>\n",
              "    </tr>\n",
              "    <tr>\n",
              "      <th>4</th>\n",
              "      <td>False</td>\n",
              "    </tr>\n",
              "    <tr>\n",
              "      <th>...</th>\n",
              "      <td>...</td>\n",
              "    </tr>\n",
              "    <tr>\n",
              "      <th>6138</th>\n",
              "      <td>False</td>\n",
              "    </tr>\n",
              "    <tr>\n",
              "      <th>6139</th>\n",
              "      <td>False</td>\n",
              "    </tr>\n",
              "    <tr>\n",
              "      <th>6140</th>\n",
              "      <td>False</td>\n",
              "    </tr>\n",
              "    <tr>\n",
              "      <th>6141</th>\n",
              "      <td>False</td>\n",
              "    </tr>\n",
              "    <tr>\n",
              "      <th>6142</th>\n",
              "      <td>False</td>\n",
              "    </tr>\n",
              "  </tbody>\n",
              "</table>\n",
              "<p>6143 rows × 1 columns</p>\n",
              "</div><br><label><b>dtype:</b> bool</label>"
            ]
          },
          "metadata": {},
          "execution_count": 12
        }
      ]
    },
    {
      "cell_type": "markdown",
      "source": [
        "check Shape of dataset"
      ],
      "metadata": {
        "id": "0i4PMfR2LTgd"
      }
    },
    {
      "cell_type": "code",
      "source": [
        "print(df1.shape)\n",
        "print(df2.shape)"
      ],
      "metadata": {
        "colab": {
          "base_uri": "https://localhost:8080/"
        },
        "id": "0LRXF-MMYyJM",
        "outputId": "5e3857c3-b967-4310-a93c-ec6f9958e091"
      },
      "execution_count": 14,
      "outputs": [
        {
          "output_type": "stream",
          "name": "stdout",
          "text": [
            "(4333, 7)\n",
            "(6143, 8)\n"
          ]
        }
      ]
    },
    {
      "cell_type": "markdown",
      "source": [
        "Check columns names in Dataframes"
      ],
      "metadata": {
        "id": "NgEs4hHjLYd1"
      }
    },
    {
      "cell_type": "code",
      "source": [
        "print(df1.columns.tolist())"
      ],
      "metadata": {
        "colab": {
          "base_uri": "https://localhost:8080/"
        },
        "id": "0-l9BVN6ZU_7",
        "outputId": "c8308ce9-0c24-44d6-bb08-df245ae506f1"
      },
      "execution_count": 15,
      "outputs": [
        {
          "output_type": "stream",
          "name": "stdout",
          "text": [
            "['Channelid', 'subscribercount', 'channelname', 'title', 'uploader', 'channelurl', 'shortdescription']\n"
          ]
        }
      ]
    },
    {
      "cell_type": "code",
      "source": [
        "print(df2.columns.tolist())"
      ],
      "metadata": {
        "colab": {
          "base_uri": "https://localhost:8080/"
        },
        "id": "qLfqZdsFZhX2",
        "outputId": "9ac4d05c-59bb-4cd9-e33d-1e3072a0d3dd"
      },
      "execution_count": 16,
      "outputs": [
        {
          "output_type": "stream",
          "name": "stdout",
          "text": [
            "['video_id', 'title', 'uploader', 'channel_id', 'video_url', 'duration_sec', 'view_count', 'language']\n"
          ]
        }
      ]
    },
    {
      "cell_type": "markdown",
      "source": [
        "**Merge the two csv files(channel_master_cleaned.csv,video_summary_cleaned.csv) both files have a common channed_id attribute**\n",
        "\n"
      ],
      "metadata": {
        "id": "K7hYJdU-YEWo"
      }
    },
    {
      "cell_type": "code",
      "source": [
        "df1=df1.rename(columns={'Channelid':'channel_id'})\n",
        "#df=df2.merge(df1,on='channel_id',how='left')"
      ],
      "metadata": {
        "id": "wOo4gb8QX-_p"
      },
      "execution_count": 17,
      "outputs": []
    },
    {
      "cell_type": "code",
      "source": [
        "df1.columns"
      ],
      "metadata": {
        "colab": {
          "base_uri": "https://localhost:8080/"
        },
        "id": "dj20_zrCba-F",
        "outputId": "5ed3e6f7-65c8-4383-f834-8043fd312cd2"
      },
      "execution_count": 18,
      "outputs": [
        {
          "output_type": "execute_result",
          "data": {
            "text/plain": [
              "Index(['channel_id', 'subscribercount', 'channelname', 'title', 'uploader',\n",
              "       'channelurl', 'shortdescription'],\n",
              "      dtype='object')"
            ]
          },
          "metadata": {},
          "execution_count": 18
        }
      ]
    },
    {
      "cell_type": "code",
      "source": [
        "merged_df=pd.merge(df2,df1[['channel_id','subscribercount', 'channelname', 'uploader', 'channelurl', 'shortdescription']],on='channel_id',how='left')"
      ],
      "metadata": {
        "id": "KBQmXpfLbfbD"
      },
      "execution_count": 26,
      "outputs": []
    },
    {
      "cell_type": "code",
      "source": [
        "merged_df.shape"
      ],
      "metadata": {
        "colab": {
          "base_uri": "https://localhost:8080/"
        },
        "id": "uPCqwO80bmVM",
        "outputId": "e738947d-f83b-43b3-dcf7-0b861cd9369b"
      },
      "execution_count": 27,
      "outputs": [
        {
          "output_type": "execute_result",
          "data": {
            "text/plain": [
              "(6143, 13)"
            ]
          },
          "metadata": {},
          "execution_count": 27
        }
      ]
    },
    {
      "cell_type": "markdown",
      "source": [
        "**Prepare Text**\n",
        "\n",
        "combine column  title and short_description\n",
        "and cleaned  it"
      ],
      "metadata": {
        "id": "St2g0bzDgTRH"
      }
    },
    {
      "cell_type": "code",
      "source": [
        "import re\n",
        "#title+short_description\n",
        "merged_df['text']=merged_df['title'] + merged_df['shortdescription']"
      ],
      "metadata": {
        "id": "nuiOoXIsbtTQ"
      },
      "execution_count": 28,
      "outputs": []
    },
    {
      "cell_type": "code",
      "source": [
        "#lowercase and remove special characters\n",
        "merged_df['text_clean']=merged_df['text'].str.lower().fillna('')\n",
        "merged_df['text_clean']=merged_df['text_clean'].apply(lambda x:re.sub(r'[^a-zA-Z\\s]','',x))\n"
      ],
      "metadata": {
        "id": "7Gi49toAhq1J"
      },
      "execution_count": 32,
      "outputs": []
    },
    {
      "cell_type": "markdown",
      "source": [
        " **Model A**\n",
        "\n",
        "  Category Classification on the basis description and title\n",
        "  \n",
        "   (sports,news,entertainment and education)"
      ],
      "metadata": {
        "id": "tj1dTtR4nC0L"
      }
    },
    {
      "cell_type": "markdown",
      "source": [
        "Creating a Labels (catrgory)\n",
        "\n"
      ],
      "metadata": {
        "id": "j-KDyzVAo26o"
      }
    },
    {
      "cell_type": "code",
      "source": [
        "def categorize(text):\n",
        "  text=text.lower()\n",
        "  if any(word in text for word in ['study','learn','tutorial','course']):\n",
        "    return 'Education'\n",
        "  elif any(word in text for word in ['Game','match','team','score','Goal']):\n",
        "    return 'Sports'\n",
        "  elif any(word in text for word in ['Movie','Song','Show','Fun','webseries','drame']):\n",
        "    return 'Entertainment'\n",
        "  elif any(word in text for word in ['News','Report','Update']):\n",
        "    return 'News'\n",
        "  else:\n",
        "    return 'Other'\n",
        "merged_df['category']=merged_df['text_clean'].apply(categorize)"
      ],
      "metadata": {
        "id": "G0YVxXe8kre1"
      },
      "execution_count": 37,
      "outputs": []
    },
    {
      "cell_type": "code",
      "source": [
        "merged_df.head()"
      ],
      "metadata": {
        "colab": {
          "base_uri": "https://localhost:8080/",
          "height": 556
        },
        "id": "7rJCRWxspga2",
        "outputId": "1ae2b95f-ae40-4018-8f94-b11c49df4746"
      },
      "execution_count": 38,
      "outputs": [
        {
          "output_type": "execute_result",
          "data": {
            "text/plain": [
              "      video_id                                              title  \\\n",
              "0  S4_guCIHpUM  Anything But Kalyanam | Tamil Web Series | Eng...   \n",
              "1  mEYVfy8MvZ0  3 - Kannazhaga Tamil Lyric | Dhanush, Shruti |...   \n",
              "2  jQ55i6NJTG4                                      Tamil Letters   \n",
              "3  kCjrcVnyLj8           Learn Tamil Write and Pronounce அ Letter   \n",
              "4  TzNYi0NZNnw                    TVK’s Edhirkalam by ACHU Josiam   \n",
              "\n",
              "                         uploader_x                channel_id  \\\n",
              "0        TICK Entertainment - Tamil  UCQhqq-oQ1ZYo2etaG0q68EA   \n",
              "1                SonyMusicSouthVEVO  UCTNtRdBAiZtHP9w7JinzfUg   \n",
              "2  Safras views on competitive exam  UC7YnNWFabe8nhxcNlu7h7Jw   \n",
              "3                        Want2Learn  UCT4bT6KtE_8Z3U78bwIu71w   \n",
              "4                          ABN Achu  UCiBhuDqvizh86j2vK3k4JrA   \n",
              "\n",
              "                                     video_url  duration_sec  view_count  \\\n",
              "0   https://www.youtube.com/shorts/S4_guCIHpUM            35     5918004   \n",
              "1  https://www.youtube.com/watch?v=mEYVfy8MvZ0           209    24769240   \n",
              "2   https://www.youtube.com/shorts/jQ55i6NJTG4            14      796286   \n",
              "3   https://www.youtube.com/shorts/kCjrcVnyLj8             5       17823   \n",
              "4   https://www.youtube.com/shorts/TzNYi0NZNnw            23    10605594   \n",
              "\n",
              "  language  subscribercount                       channelname  \\\n",
              "0    tamil         318000.0        TICK Entertainment - Tamil   \n",
              "1    tamil       22400000.0                SonyMusicSouthVEVO   \n",
              "2    tamil           2320.0  Safras views on competitive exam   \n",
              "3    tamil           8660.0                        Want2Learn   \n",
              "4    tamil        1310000.0                          ABN Achu   \n",
              "\n",
              "                         uploader_y  \\\n",
              "0        TICK Entertainment - Tamil   \n",
              "1                SonyMusicSouthVEVO   \n",
              "2  Safras views on competitive exam   \n",
              "3                        Want2Learn   \n",
              "4                          ABN Achu   \n",
              "\n",
              "                                          channelurl  \\\n",
              "0  https://www.youtube.com/channel/UCQhqq-oQ1ZYo2...   \n",
              "1  https://www.youtube.com/channel/UCTNtRdBAiZtHP...   \n",
              "2  https://www.youtube.com/channel/UC7YnNWFabe8nh...   \n",
              "3  https://www.youtube.com/channel/UCT4bT6KtE_8Z3...   \n",
              "4  https://www.youtube.com/channel/UCiBhuDqvizh86...   \n",
              "\n",
              "                                    shortdescription  \\\n",
              "0  Tick Entertainment is the part of Tick Network...   \n",
              "1  The official VEVO channel of Sony Music Entert...   \n",
              "2           Follow learn practice to achieve success   \n",
              "3  Want2learn.com provides opportunities to learn...   \n",
              "4  Hey loves❣️with all ur Love and Support I’m st...   \n",
              "\n",
              "                                                text  \\\n",
              "0  Anything But Kalyanam | Tamil Web Series | Eng...   \n",
              "1  3 - Kannazhaga Tamil Lyric | Dhanush, Shruti |...   \n",
              "2  Tamil LettersFollow learn practice to achieve ...   \n",
              "3  Learn Tamil Write and Pronounce அ LetterWant2l...   \n",
              "4  TVK’s Edhirkalam by ACHU JosiamHey loves❣️with...   \n",
              "\n",
              "                                          text_clean   category  \n",
              "0  anything but kalyanam  tamil web series  engli...      Other  \n",
              "1    kannazhaga tamil lyric  dhanush shruti  anir...      Other  \n",
              "2  tamil lettersfollow learn practice to achieve ...  Education  \n",
              "3  learn tamil write and pronounce  letterwantlea...  Education  \n",
              "4  tvks edhirkalam by achu josiamhey loveswith al...      Other  "
            ],
            "text/html": [
              "\n",
              "  <div id=\"df-a5a09f1a-8824-4c26-9a39-3132e23df1fb\" class=\"colab-df-container\">\n",
              "    <div>\n",
              "<style scoped>\n",
              "    .dataframe tbody tr th:only-of-type {\n",
              "        vertical-align: middle;\n",
              "    }\n",
              "\n",
              "    .dataframe tbody tr th {\n",
              "        vertical-align: top;\n",
              "    }\n",
              "\n",
              "    .dataframe thead th {\n",
              "        text-align: right;\n",
              "    }\n",
              "</style>\n",
              "<table border=\"1\" class=\"dataframe\">\n",
              "  <thead>\n",
              "    <tr style=\"text-align: right;\">\n",
              "      <th></th>\n",
              "      <th>video_id</th>\n",
              "      <th>title</th>\n",
              "      <th>uploader_x</th>\n",
              "      <th>channel_id</th>\n",
              "      <th>video_url</th>\n",
              "      <th>duration_sec</th>\n",
              "      <th>view_count</th>\n",
              "      <th>language</th>\n",
              "      <th>subscribercount</th>\n",
              "      <th>channelname</th>\n",
              "      <th>uploader_y</th>\n",
              "      <th>channelurl</th>\n",
              "      <th>shortdescription</th>\n",
              "      <th>text</th>\n",
              "      <th>text_clean</th>\n",
              "      <th>category</th>\n",
              "    </tr>\n",
              "  </thead>\n",
              "  <tbody>\n",
              "    <tr>\n",
              "      <th>0</th>\n",
              "      <td>S4_guCIHpUM</td>\n",
              "      <td>Anything But Kalyanam | Tamil Web Series | Eng...</td>\n",
              "      <td>TICK Entertainment - Tamil</td>\n",
              "      <td>UCQhqq-oQ1ZYo2etaG0q68EA</td>\n",
              "      <td>https://www.youtube.com/shorts/S4_guCIHpUM</td>\n",
              "      <td>35</td>\n",
              "      <td>5918004</td>\n",
              "      <td>tamil</td>\n",
              "      <td>318000.0</td>\n",
              "      <td>TICK Entertainment - Tamil</td>\n",
              "      <td>TICK Entertainment - Tamil</td>\n",
              "      <td>https://www.youtube.com/channel/UCQhqq-oQ1ZYo2...</td>\n",
              "      <td>Tick Entertainment is the part of Tick Network...</td>\n",
              "      <td>Anything But Kalyanam | Tamil Web Series | Eng...</td>\n",
              "      <td>anything but kalyanam  tamil web series  engli...</td>\n",
              "      <td>Other</td>\n",
              "    </tr>\n",
              "    <tr>\n",
              "      <th>1</th>\n",
              "      <td>mEYVfy8MvZ0</td>\n",
              "      <td>3 - Kannazhaga Tamil Lyric | Dhanush, Shruti |...</td>\n",
              "      <td>SonyMusicSouthVEVO</td>\n",
              "      <td>UCTNtRdBAiZtHP9w7JinzfUg</td>\n",
              "      <td>https://www.youtube.com/watch?v=mEYVfy8MvZ0</td>\n",
              "      <td>209</td>\n",
              "      <td>24769240</td>\n",
              "      <td>tamil</td>\n",
              "      <td>22400000.0</td>\n",
              "      <td>SonyMusicSouthVEVO</td>\n",
              "      <td>SonyMusicSouthVEVO</td>\n",
              "      <td>https://www.youtube.com/channel/UCTNtRdBAiZtHP...</td>\n",
              "      <td>The official VEVO channel of Sony Music Entert...</td>\n",
              "      <td>3 - Kannazhaga Tamil Lyric | Dhanush, Shruti |...</td>\n",
              "      <td>kannazhaga tamil lyric  dhanush shruti  anir...</td>\n",
              "      <td>Other</td>\n",
              "    </tr>\n",
              "    <tr>\n",
              "      <th>2</th>\n",
              "      <td>jQ55i6NJTG4</td>\n",
              "      <td>Tamil Letters</td>\n",
              "      <td>Safras views on competitive exam</td>\n",
              "      <td>UC7YnNWFabe8nhxcNlu7h7Jw</td>\n",
              "      <td>https://www.youtube.com/shorts/jQ55i6NJTG4</td>\n",
              "      <td>14</td>\n",
              "      <td>796286</td>\n",
              "      <td>tamil</td>\n",
              "      <td>2320.0</td>\n",
              "      <td>Safras views on competitive exam</td>\n",
              "      <td>Safras views on competitive exam</td>\n",
              "      <td>https://www.youtube.com/channel/UC7YnNWFabe8nh...</td>\n",
              "      <td>Follow learn practice to achieve success</td>\n",
              "      <td>Tamil LettersFollow learn practice to achieve ...</td>\n",
              "      <td>tamil lettersfollow learn practice to achieve ...</td>\n",
              "      <td>Education</td>\n",
              "    </tr>\n",
              "    <tr>\n",
              "      <th>3</th>\n",
              "      <td>kCjrcVnyLj8</td>\n",
              "      <td>Learn Tamil Write and Pronounce அ Letter</td>\n",
              "      <td>Want2Learn</td>\n",
              "      <td>UCT4bT6KtE_8Z3U78bwIu71w</td>\n",
              "      <td>https://www.youtube.com/shorts/kCjrcVnyLj8</td>\n",
              "      <td>5</td>\n",
              "      <td>17823</td>\n",
              "      <td>tamil</td>\n",
              "      <td>8660.0</td>\n",
              "      <td>Want2Learn</td>\n",
              "      <td>Want2Learn</td>\n",
              "      <td>https://www.youtube.com/channel/UCT4bT6KtE_8Z3...</td>\n",
              "      <td>Want2learn.com provides opportunities to learn...</td>\n",
              "      <td>Learn Tamil Write and Pronounce அ LetterWant2l...</td>\n",
              "      <td>learn tamil write and pronounce  letterwantlea...</td>\n",
              "      <td>Education</td>\n",
              "    </tr>\n",
              "    <tr>\n",
              "      <th>4</th>\n",
              "      <td>TzNYi0NZNnw</td>\n",
              "      <td>TVK’s Edhirkalam by ACHU Josiam</td>\n",
              "      <td>ABN Achu</td>\n",
              "      <td>UCiBhuDqvizh86j2vK3k4JrA</td>\n",
              "      <td>https://www.youtube.com/shorts/TzNYi0NZNnw</td>\n",
              "      <td>23</td>\n",
              "      <td>10605594</td>\n",
              "      <td>tamil</td>\n",
              "      <td>1310000.0</td>\n",
              "      <td>ABN Achu</td>\n",
              "      <td>ABN Achu</td>\n",
              "      <td>https://www.youtube.com/channel/UCiBhuDqvizh86...</td>\n",
              "      <td>Hey loves❣️with all ur Love and Support I’m st...</td>\n",
              "      <td>TVK’s Edhirkalam by ACHU JosiamHey loves❣️with...</td>\n",
              "      <td>tvks edhirkalam by achu josiamhey loveswith al...</td>\n",
              "      <td>Other</td>\n",
              "    </tr>\n",
              "  </tbody>\n",
              "</table>\n",
              "</div>\n",
              "    <div class=\"colab-df-buttons\">\n",
              "\n",
              "  <div class=\"colab-df-container\">\n",
              "    <button class=\"colab-df-convert\" onclick=\"convertToInteractive('df-a5a09f1a-8824-4c26-9a39-3132e23df1fb')\"\n",
              "            title=\"Convert this dataframe to an interactive table.\"\n",
              "            style=\"display:none;\">\n",
              "\n",
              "  <svg xmlns=\"http://www.w3.org/2000/svg\" height=\"24px\" viewBox=\"0 -960 960 960\">\n",
              "    <path d=\"M120-120v-720h720v720H120Zm60-500h600v-160H180v160Zm220 220h160v-160H400v160Zm0 220h160v-160H400v160ZM180-400h160v-160H180v160Zm440 0h160v-160H620v160ZM180-180h160v-160H180v160Zm440 0h160v-160H620v160Z\"/>\n",
              "  </svg>\n",
              "    </button>\n",
              "\n",
              "  <style>\n",
              "    .colab-df-container {\n",
              "      display:flex;\n",
              "      gap: 12px;\n",
              "    }\n",
              "\n",
              "    .colab-df-convert {\n",
              "      background-color: #E8F0FE;\n",
              "      border: none;\n",
              "      border-radius: 50%;\n",
              "      cursor: pointer;\n",
              "      display: none;\n",
              "      fill: #1967D2;\n",
              "      height: 32px;\n",
              "      padding: 0 0 0 0;\n",
              "      width: 32px;\n",
              "    }\n",
              "\n",
              "    .colab-df-convert:hover {\n",
              "      background-color: #E2EBFA;\n",
              "      box-shadow: 0px 1px 2px rgba(60, 64, 67, 0.3), 0px 1px 3px 1px rgba(60, 64, 67, 0.15);\n",
              "      fill: #174EA6;\n",
              "    }\n",
              "\n",
              "    .colab-df-buttons div {\n",
              "      margin-bottom: 4px;\n",
              "    }\n",
              "\n",
              "    [theme=dark] .colab-df-convert {\n",
              "      background-color: #3B4455;\n",
              "      fill: #D2E3FC;\n",
              "    }\n",
              "\n",
              "    [theme=dark] .colab-df-convert:hover {\n",
              "      background-color: #434B5C;\n",
              "      box-shadow: 0px 1px 3px 1px rgba(0, 0, 0, 0.15);\n",
              "      filter: drop-shadow(0px 1px 2px rgba(0, 0, 0, 0.3));\n",
              "      fill: #FFFFFF;\n",
              "    }\n",
              "  </style>\n",
              "\n",
              "    <script>\n",
              "      const buttonEl =\n",
              "        document.querySelector('#df-a5a09f1a-8824-4c26-9a39-3132e23df1fb button.colab-df-convert');\n",
              "      buttonEl.style.display =\n",
              "        google.colab.kernel.accessAllowed ? 'block' : 'none';\n",
              "\n",
              "      async function convertToInteractive(key) {\n",
              "        const element = document.querySelector('#df-a5a09f1a-8824-4c26-9a39-3132e23df1fb');\n",
              "        const dataTable =\n",
              "          await google.colab.kernel.invokeFunction('convertToInteractive',\n",
              "                                                    [key], {});\n",
              "        if (!dataTable) return;\n",
              "\n",
              "        const docLinkHtml = 'Like what you see? Visit the ' +\n",
              "          '<a target=\"_blank\" href=https://colab.research.google.com/notebooks/data_table.ipynb>data table notebook</a>'\n",
              "          + ' to learn more about interactive tables.';\n",
              "        element.innerHTML = '';\n",
              "        dataTable['output_type'] = 'display_data';\n",
              "        await google.colab.output.renderOutput(dataTable, element);\n",
              "        const docLink = document.createElement('div');\n",
              "        docLink.innerHTML = docLinkHtml;\n",
              "        element.appendChild(docLink);\n",
              "      }\n",
              "    </script>\n",
              "  </div>\n",
              "\n",
              "\n",
              "    <div id=\"df-581aac65-4876-4d74-a0e4-f9f65456c718\">\n",
              "      <button class=\"colab-df-quickchart\" onclick=\"quickchart('df-581aac65-4876-4d74-a0e4-f9f65456c718')\"\n",
              "                title=\"Suggest charts\"\n",
              "                style=\"display:none;\">\n",
              "\n",
              "<svg xmlns=\"http://www.w3.org/2000/svg\" height=\"24px\"viewBox=\"0 0 24 24\"\n",
              "     width=\"24px\">\n",
              "    <g>\n",
              "        <path d=\"M19 3H5c-1.1 0-2 .9-2 2v14c0 1.1.9 2 2 2h14c1.1 0 2-.9 2-2V5c0-1.1-.9-2-2-2zM9 17H7v-7h2v7zm4 0h-2V7h2v10zm4 0h-2v-4h2v4z\"/>\n",
              "    </g>\n",
              "</svg>\n",
              "      </button>\n",
              "\n",
              "<style>\n",
              "  .colab-df-quickchart {\n",
              "      --bg-color: #E8F0FE;\n",
              "      --fill-color: #1967D2;\n",
              "      --hover-bg-color: #E2EBFA;\n",
              "      --hover-fill-color: #174EA6;\n",
              "      --disabled-fill-color: #AAA;\n",
              "      --disabled-bg-color: #DDD;\n",
              "  }\n",
              "\n",
              "  [theme=dark] .colab-df-quickchart {\n",
              "      --bg-color: #3B4455;\n",
              "      --fill-color: #D2E3FC;\n",
              "      --hover-bg-color: #434B5C;\n",
              "      --hover-fill-color: #FFFFFF;\n",
              "      --disabled-bg-color: #3B4455;\n",
              "      --disabled-fill-color: #666;\n",
              "  }\n",
              "\n",
              "  .colab-df-quickchart {\n",
              "    background-color: var(--bg-color);\n",
              "    border: none;\n",
              "    border-radius: 50%;\n",
              "    cursor: pointer;\n",
              "    display: none;\n",
              "    fill: var(--fill-color);\n",
              "    height: 32px;\n",
              "    padding: 0;\n",
              "    width: 32px;\n",
              "  }\n",
              "\n",
              "  .colab-df-quickchart:hover {\n",
              "    background-color: var(--hover-bg-color);\n",
              "    box-shadow: 0 1px 2px rgba(60, 64, 67, 0.3), 0 1px 3px 1px rgba(60, 64, 67, 0.15);\n",
              "    fill: var(--button-hover-fill-color);\n",
              "  }\n",
              "\n",
              "  .colab-df-quickchart-complete:disabled,\n",
              "  .colab-df-quickchart-complete:disabled:hover {\n",
              "    background-color: var(--disabled-bg-color);\n",
              "    fill: var(--disabled-fill-color);\n",
              "    box-shadow: none;\n",
              "  }\n",
              "\n",
              "  .colab-df-spinner {\n",
              "    border: 2px solid var(--fill-color);\n",
              "    border-color: transparent;\n",
              "    border-bottom-color: var(--fill-color);\n",
              "    animation:\n",
              "      spin 1s steps(1) infinite;\n",
              "  }\n",
              "\n",
              "  @keyframes spin {\n",
              "    0% {\n",
              "      border-color: transparent;\n",
              "      border-bottom-color: var(--fill-color);\n",
              "      border-left-color: var(--fill-color);\n",
              "    }\n",
              "    20% {\n",
              "      border-color: transparent;\n",
              "      border-left-color: var(--fill-color);\n",
              "      border-top-color: var(--fill-color);\n",
              "    }\n",
              "    30% {\n",
              "      border-color: transparent;\n",
              "      border-left-color: var(--fill-color);\n",
              "      border-top-color: var(--fill-color);\n",
              "      border-right-color: var(--fill-color);\n",
              "    }\n",
              "    40% {\n",
              "      border-color: transparent;\n",
              "      border-right-color: var(--fill-color);\n",
              "      border-top-color: var(--fill-color);\n",
              "    }\n",
              "    60% {\n",
              "      border-color: transparent;\n",
              "      border-right-color: var(--fill-color);\n",
              "    }\n",
              "    80% {\n",
              "      border-color: transparent;\n",
              "      border-right-color: var(--fill-color);\n",
              "      border-bottom-color: var(--fill-color);\n",
              "    }\n",
              "    90% {\n",
              "      border-color: transparent;\n",
              "      border-bottom-color: var(--fill-color);\n",
              "    }\n",
              "  }\n",
              "</style>\n",
              "\n",
              "      <script>\n",
              "        async function quickchart(key) {\n",
              "          const quickchartButtonEl =\n",
              "            document.querySelector('#' + key + ' button');\n",
              "          quickchartButtonEl.disabled = true;  // To prevent multiple clicks.\n",
              "          quickchartButtonEl.classList.add('colab-df-spinner');\n",
              "          try {\n",
              "            const charts = await google.colab.kernel.invokeFunction(\n",
              "                'suggestCharts', [key], {});\n",
              "          } catch (error) {\n",
              "            console.error('Error during call to suggestCharts:', error);\n",
              "          }\n",
              "          quickchartButtonEl.classList.remove('colab-df-spinner');\n",
              "          quickchartButtonEl.classList.add('colab-df-quickchart-complete');\n",
              "        }\n",
              "        (() => {\n",
              "          let quickchartButtonEl =\n",
              "            document.querySelector('#df-581aac65-4876-4d74-a0e4-f9f65456c718 button');\n",
              "          quickchartButtonEl.style.display =\n",
              "            google.colab.kernel.accessAllowed ? 'block' : 'none';\n",
              "        })();\n",
              "      </script>\n",
              "    </div>\n",
              "\n",
              "    </div>\n",
              "  </div>\n"
            ],
            "application/vnd.google.colaboratory.intrinsic+json": {
              "type": "dataframe",
              "variable_name": "merged_df",
              "summary": "{\n  \"name\": \"merged_df\",\n  \"rows\": 6143,\n  \"fields\": [\n    {\n      \"column\": \"video_id\",\n      \"properties\": {\n        \"dtype\": \"string\",\n        \"num_unique_values\": 6143,\n        \"samples\": [\n          \"BvYhDrl7QOc\",\n          \"7jMNpnQel74\",\n          \"1e2iIPtYthQ\"\n        ],\n        \"semantic_type\": \"\",\n        \"description\": \"\"\n      }\n    },\n    {\n      \"column\": \"title\",\n      \"properties\": {\n        \"dtype\": \"string\",\n        \"num_unique_values\": 6143,\n        \"samples\": [\n          \"Kaapaado Dyavre | Elumale | Mangli | Raanna | Priyanka Achar | D Imman | Tharun Sudhir | Punit\",\n          \"Sami Yusuf  Hasbi Rabbi (With Urdu English Translation)\",\n          \"Independence Day Event | IPF Abu dhabi | K Annamalai | Tamilnadu BJP | #annamalai #tnbjp\"\n        ],\n        \"semantic_type\": \"\",\n        \"description\": \"\"\n      }\n    },\n    {\n      \"column\": \"uploader_x\",\n      \"properties\": {\n        \"dtype\": \"string\",\n        \"num_unique_values\": 4207,\n        \"samples\": [\n          \"\\u0905\\u0928\\u0902\\u0924 \\ud83d\\udd49\\ufe0f\",\n          \"Kakali vlogs \",\n          \"AmericaMaGujarati\"\n        ],\n        \"semantic_type\": \"\",\n        \"description\": \"\"\n      }\n    },\n    {\n      \"column\": \"channel_id\",\n      \"properties\": {\n        \"dtype\": \"string\",\n        \"num_unique_values\": 4208,\n        \"samples\": [\n          \"UCO2heO36yUblxo42ABPSO5w\",\n          \"UCK4txvyZUWObRT8dYoOFp8g\",\n          \"UCIunIy--3E_IQpOvnZgj2qQ\"\n        ],\n        \"semantic_type\": \"\",\n        \"description\": \"\"\n      }\n    },\n    {\n      \"column\": \"video_url\",\n      \"properties\": {\n        \"dtype\": \"string\",\n        \"num_unique_values\": 6143,\n        \"samples\": [\n          \"https://www.youtube.com/watch?v=BvYhDrl7QOc\",\n          \"https://www.youtube.com/watch?v=7jMNpnQel74\",\n          \"https://www.youtube.com/watch?v=1e2iIPtYthQ\"\n        ],\n        \"semantic_type\": \"\",\n        \"description\": \"\"\n      }\n    },\n    {\n      \"column\": \"duration_sec\",\n      \"properties\": {\n        \"dtype\": \"number\",\n        \"std\": 3385,\n        \"min\": 4,\n        \"max\": 65365,\n        \"num_unique_values\": 1754,\n        \"samples\": [\n          419,\n          9369,\n          6363\n        ],\n        \"semantic_type\": \"\",\n        \"description\": \"\"\n      }\n    },\n    {\n      \"column\": \"view_count\",\n      \"properties\": {\n        \"dtype\": \"number\",\n        \"std\": 76532339,\n        \"min\": 0,\n        \"max\": 1608304805,\n        \"num_unique_values\": 5949,\n        \"samples\": [\n          15360890,\n          224798,\n          975982\n        ],\n        \"semantic_type\": \"\",\n        \"description\": \"\"\n      }\n    },\n    {\n      \"column\": \"language\",\n      \"properties\": {\n        \"dtype\": \"category\",\n        \"num_unique_values\": 13,\n        \"samples\": [\n          \"urdu\",\n          \"odia\",\n          \"tamil\"\n        ],\n        \"semantic_type\": \"\",\n        \"description\": \"\"\n      }\n    },\n    {\n      \"column\": \"subscribercount\",\n      \"properties\": {\n        \"dtype\": \"number\",\n        \"std\": 23883592.74036762,\n        \"min\": 2.0,\n        \"max\": 301000000.0,\n        \"num_unique_values\": 2416,\n        \"samples\": [\n          106000000.0,\n          3940.0,\n          711000.0\n        ],\n        \"semantic_type\": \"\",\n        \"description\": \"\"\n      }\n    },\n    {\n      \"column\": \"channelname\",\n      \"properties\": {\n        \"dtype\": \"string\",\n        \"num_unique_values\": 4196,\n        \"samples\": [\n          \"Tamil Music Video\",\n          \"Sohail Music Series\",\n          \"\\ud835\\udc0f\\ud835\\udc1a\\ud835\\udc2d\\ud835\\udc21\\ud835\\udc2c\\ud835\\udc21\\ud835\\udc1a\\ud835\\udc25\\ud835\\udc1a club\"\n        ],\n        \"semantic_type\": \"\",\n        \"description\": \"\"\n      }\n    },\n    {\n      \"column\": \"uploader_y\",\n      \"properties\": {\n        \"dtype\": \"string\",\n        \"num_unique_values\": 4196,\n        \"samples\": [\n          \"Tamil Music Video\",\n          \"Sohail Music Series\",\n          \"\\ud835\\udc0f\\ud835\\udc1a\\ud835\\udc2d\\ud835\\udc21\\ud835\\udc2c\\ud835\\udc21\\ud835\\udc1a\\ud835\\udc25\\ud835\\udc1a club\"\n        ],\n        \"semantic_type\": \"\",\n        \"description\": \"\"\n      }\n    },\n    {\n      \"column\": \"channelurl\",\n      \"properties\": {\n        \"dtype\": \"string\",\n        \"num_unique_values\": 4198,\n        \"samples\": [\n          \"https://www.youtube.com/channel/UC-RAM1pY7KzBJp2EGQL6acg\",\n          \"https://www.youtube.com/channel/UCdF5Q5QVbYstYrTfpgUl0ZA\",\n          \"https://www.youtube.com/channel/UCYD5G9lrUAYbFqs1p9QMN_w\"\n        ],\n        \"semantic_type\": \"\",\n        \"description\": \"\"\n      }\n    },\n    {\n      \"column\": \"shortdescription\",\n      \"properties\": {\n        \"dtype\": \"string\",\n        \"num_unique_values\": 3658,\n        \"samples\": [\n          \"Welcome to our channel! Here, you will find a collection of educational videos that are designed to help you ace your studies. From math to science to history, Hindi we cover a wide range of subjects to ensure you have all the resources you\",\n          \"movie video comedy video video song \\ud83d\\ude0d\\ud83d\\ude0d\",\n          \"To read more visit: https://www.newsj.tv/ Follow us on Facebook : https://www.facebook.com/NewsJTamil/ Follow us on Twitter : https://twitter.com/NewsJTamil Follow us on Instagram : https://www.instagram.com/newsjtamil/ Follow us on Telegra\"\n        ],\n        \"semantic_type\": \"\",\n        \"description\": \"\"\n      }\n    },\n    {\n      \"column\": \"text\",\n      \"properties\": {\n        \"dtype\": \"string\",\n        \"num_unique_values\": 6133,\n        \"samples\": [\n          \"DEVIL Lyrical Video | PBX 1 | Sidhu Moose Wala | Byg Byrd |  Latest Punjabi Songs 2018\\\"Music can change the world\\\". T-Series is India's largest Music Label & Movie Studio, believes in bringing world close together through its music. T-Series is associated with music industry from past three decades, having ample catalogue of\",\n          \"Lakshmi Nivasam | Ep - 141 | Preview | Aug 12 2025 | Zee TeluguZee Telugu, the channel created with a vision to provide wholesome entertainment to the entire family, has become a very popular channel amongst all age groups today. Resonating with its brand proposition, \\u201cAarambham Okka Aduguthone\\\", which\",\n          \"\\u09a6\\u09be\\u09a6\\u09be\\u0997\\u09bf\\u09f0\\u09bf | DADAGIRI full movie | 1st half l Dadagiri Assamese Movie | Prabir RajkhowaAbout \\u09a8\\u09ae\\u09b8\\u09cd\\u0995\\u09be\\u09f0 \\u09f0\\u09be\\u0987\\u099c, PR PRODUCTION \\u09b2\\u09c8 \\u0986\\u09aa\\u09cb\\u09a8\\u09be\\u09b2\\u09cb\\u0995\\u0995 \\u09b8\\u09cd\\u09ac\\u09be\\u0997\\u09a4\\u09ae \\u099c\\u09a8\\u09be\\u0987\\u099b\\u09cb\\u0964\\u0986\\u09aa\\u09cb\\u09a8\\u09be\\u09b2\\u09cb\\u0995\\u0995 \\u099a\\u09bf\\u09f0\\u09bf\\u09df\\u09c7\\u09b2,\\u099a\\u09bf\\u09a8\\u09c7\\u09ae\\u09be,\\u0997\\u09be\\u09a8 \\u0986\\u09a6\\u09bf\\u09f0 \\u09af\\u09cb\\u0997\\u09c7\\u09a6\\u09bf \\u0985\\u0995\\u09a8\\u09ae\\u09be\\u09a8 \\u0986\\u09ae\\u09cb\\u09a6 \\u09a6\\u09bf\\u09ac\\u09f0 \\u0995\\u09be\\u09f0\\u09a3\\u09c7 \\u0986\\u09ae\\u09bf \\u098f\\u099f\\u09bf \\u0995\\u09cd\\u09b7\\u09c1\\u09a6\\u09cd\\u09f0\\u09a4\\u09ae \\u09aa\\u09cd\\u09f0\\u09df\\u09be\\u09b8 \\u0995\\u09f0\\u09bf\\u099b\\u09cb\\u0964 \\u0986\\u09b6\\u09be \\u0995\\u09f0\\u09cb\\u0981 \\u0986\\u09aa\\u09cb\\u09a8\\u09be\\u09b2\\u09cb\\u0995\\u09c7 \\u0986\\u09ae\\u09be\\u09f0 CHANNEL\\u099f\\u09cb\\u0995 \\u09ae\\u09f0\\u09ae \\u09a6\\u09bf\\u09ac, \\u0986\\u09b6\\u09c0\\u09f0\\u09cd\\u09ac\\u09be\\u09a6 \\u09a6\\u09bf\\u09ac \\u0986\\u09f0\\u09c1 \\u0986\\u09aa\\u09cb\\u09a8\\u09be\\u09b2\\u09cb\\u0995\\u09f0 \\u09aa\\u09f0\\u09bf\\u09df\\u09be\\u09b2\\u09f0 \\u098f\\u099f\\u09bf\"\n        ],\n        \"semantic_type\": \"\",\n        \"description\": \"\"\n      }\n    },\n    {\n      \"column\": \"text_clean\",\n      \"properties\": {\n        \"dtype\": \"string\",\n        \"num_unique_values\": 6035,\n        \"samples\": [\n          \"hadisekisa in urdu     shahrukh haideri  manqabat of hazrat fatima zahra sa no description\",\n          \"ajja billi     best punjabi nursery rhyme for kids  cat  babys fun song  bachabox welcome to bachabox  the magical world of punjabi kids  get ready for a magical world of rhymes and creative activities for your little ones bachabox is your childs favorite destination for fun learning and faith  all in one box \",\n          \"new urdu poetry  shayari poetry urdu shayari love shortswelcome to our youtube channel dedicated to urdu poetry here risal poetry celebrate the beauty and intricacy of this timeless art form our channel is the perfect destination for poetry lovers whether youre a seasoned enthusiast or just\"\n        ],\n        \"semantic_type\": \"\",\n        \"description\": \"\"\n      }\n    },\n    {\n      \"column\": \"category\",\n      \"properties\": {\n        \"dtype\": \"category\",\n        \"num_unique_values\": 4,\n        \"samples\": [\n          \"Education\",\n          \"Sports\",\n          \"Other\"\n        ],\n        \"semantic_type\": \"\",\n        \"description\": \"\"\n      }\n    }\n  ]\n}"
            }
          },
          "metadata": {},
          "execution_count": 38
        }
      ]
    },
    {
      "cell_type": "markdown",
      "source": [
        "Use TF-IDF to convert text into numeric features:"
      ],
      "metadata": {
        "id": "-ONGO-H-rMIv"
      }
    },
    {
      "cell_type": "code",
      "source": [
        "from sklearn.feature_extraction.text import TfidfVectorizer\n",
        "vectorizer=TfidfVectorizer()\n",
        "x_features=vectorizer.fit_transform(merged_df['text_clean'])"
      ],
      "metadata": {
        "id": "lLFi-9tIqj_Q"
      },
      "execution_count": 41,
      "outputs": []
    },
    {
      "cell_type": "markdown",
      "source": [
        "Model B\n",
        "\n",
        "Content category classification on the basis of vid_duration\n",
        "\n",
        "Creating Duration labels\n",
        "\n",
        "\n",
        "*   short  : <240 sec (<4 min)\n",
        "*   medium : <240-1200 sec (4-20 min)\n",
        "*   large  : >1200 sec (>20 min)\n",
        "\n",
        "\n"
      ],
      "metadata": {
        "id": "yoQZc3W3wKVR"
      }
    },
    {
      "cell_type": "code",
      "source": [
        "def duration_label(seconds):\n",
        "  if seconds < 240:\n",
        "    return 'short video'\n",
        "  elif seconds <=1200:\n",
        "    return 'medium video'\n",
        "  else:\n",
        "    return 'Large'\n",
        "merged_df['duration_label']=merged_df['duration_sec'].apply(duration_label)"
      ],
      "metadata": {
        "id": "ugMRNWLIwKDd"
      },
      "execution_count": 44,
      "outputs": []
    },
    {
      "cell_type": "markdown",
      "source": [
        "**Encode duration label**\n",
        "\n",
        "ML model can't used text directly for that we use label encoder"
      ],
      "metadata": {
        "id": "-LSF9zzxyyEz"
      }
    },
    {
      "cell_type": "code",
      "source": [
        "from sklearn .preprocessing import LabelEncoder\n",
        "le_duration =LabelEncoder()\n",
        "merged_df['duration_encoded']=le_duration.fit_transform(merged_df['duration_label'])\n",
        "# Now duration encoded is numeric(0,1,2) for short,medium and large\n"
      ],
      "metadata": {
        "id": "CwbnAXc_wKAF"
      },
      "execution_count": 45,
      "outputs": []
    },
    {
      "cell_type": "code",
      "source": [
        "#pip install scipy"
      ],
      "metadata": {
        "colab": {
          "base_uri": "https://localhost:8080/"
        },
        "id": "5nZFzIUI2JBo",
        "outputId": "33298393-8b06-4593-b55d-8b2da143e4a6"
      },
      "execution_count": 49,
      "outputs": [
        {
          "output_type": "stream",
          "name": "stdout",
          "text": [
            "Requirement already satisfied: scipy in /usr/local/lib/python3.12/dist-packages (1.16.1)\n",
            "Requirement already satisfied: numpy<2.6,>=1.25.2 in /usr/local/lib/python3.12/dist-packages (from scipy) (2.0.2)\n"
          ]
        }
      ]
    },
    {
      "cell_type": "code",
      "source": [
        "import numpy as np\n",
        "from scipy.sparse import hstack\n",
        "\n",
        "# Convert to numpy and make 2D\n",
        "X_numeric = np.array(merged_df['duration_encoded']).reshape(-1, 1)\n",
        "\n",
        "# Combine with TF-IDF features\n",
        "X = hstack([X_text, X_numeric])\n",
        "y= merged_df['language']\n"
      ],
      "metadata": {
        "id": "_OOoP6NS8S1h"
      },
      "execution_count": 55,
      "outputs": []
    },
    {
      "cell_type": "markdown",
      "source": [
        "**Split Data**\n",
        "\n",
        "Model A (category classification: News, Sports , education ,entertainment)\n",
        "\n",
        "Model B (Language Classification: tamil,Hindi....)"
      ],
      "metadata": {
        "id": "rCA81DlLs4Zp"
      }
    },
    {
      "cell_type": "code",
      "source": [
        "from sklearn.model_selection import train_test_split\n",
        "\n",
        "#Category Model\n",
        "X_train_cat,X_test_cat,y_train_cat,y_test_cat=train_test_split( x_features,merged_df['category'],test_size=0.2,random_state=42)\n",
        "\n",
        "# Video duration Model\n",
        "X_train_dur,x_test_dur,y_train_dur,y_test_dur=train_test_split(X,y,test_size=0.2,random_state=42)\n",
        "\n",
        "#Language Model\n",
        "X_train_lang,X_test_lang,y_train_lang,y_test_lang=train_test_split( x_features,merged_df['language'],test_size=0.2,random_state=42)\n",
        "\n"
      ],
      "metadata": {
        "id": "_QRkknDDr7XJ"
      },
      "execution_count": 63,
      "outputs": []
    },
    {
      "cell_type": "markdown",
      "source": [
        "**Train Models**\n",
        "\n",
        "Used Multinomial Naive Bayes (Good for text)"
      ],
      "metadata": {
        "id": "eK2Mx7BdvAbx"
      }
    },
    {
      "cell_type": "code",
      "source": [
        "from sklearn.naive_bayes import MultinomialNB\n",
        "from sklearn.metrics import accuracy_score\n",
        "# Category\n",
        "model_cat=MultinomialNB()\n",
        "model_cat.fit(X_train_cat,y_train_cat)\n",
        "y_pred_cat=model_cat.predict(X_test_cat)\n",
        "print('Content classifiaction  Model Accuracy Score :',accuracy_score(y_test_cat,y_pred_cat))\n",
        "\n",
        "# Video duration\n",
        "model_duration= MultinomialNB()\n",
        "model_duration.fit(X_train_dur,y_train_dur)\n",
        "y_pred_dur=model_duration.predict(x_test_dur)\n",
        "print('Video Duration Model Accuracy Score :',accuracy_score(y_test_dur,y_pred_dur))\n",
        "\n",
        "# Language Model\n",
        "model_lang=MultinomialNB()\n",
        "model_lang.fit(X_train_lang,y_train_lang)\n",
        "y_pred_lang=model_lang.predict(X_test_lang)\n",
        "print('Language Model Accuracy Score :',accuracy_score(y_test_lang,y_pred_lang))"
      ],
      "metadata": {
        "colab": {
          "base_uri": "https://localhost:8080/"
        },
        "id": "OejinEE9urYe",
        "outputId": "c6f242ca-10db-40f3-a2a6-1262de07e7ba"
      },
      "execution_count": 65,
      "outputs": [
        {
          "output_type": "stream",
          "name": "stdout",
          "text": [
            "Content classifiaction  Model Accuracy Score : 0.9072416598860863\n",
            "Video Duration Model Accuracy Score : 0.774613506916192\n",
            "Language Model Accuracy Score : 0.790886899918633\n"
          ]
        }
      ]
    },
    {
      "cell_type": "markdown",
      "source": [
        "Model\t                       Accuracy\t         \n",
        "\n",
        "Content Classification\t     0.907 (~91%)      (Overfit slighty)best performer\n",
        "\n",
        "Language Classification\t     0.791 (~79%)\t     Good Model Fit perfectly\n",
        "\n",
        "Video Duration Classification\t0.775 (~77%)\t   perform Well on Model\n"
      ],
      "metadata": {
        "id": "3Vy5hb5WFzri"
      }
    },
    {
      "cell_type": "markdown",
      "source": [
        "** Comparision of Three Model **"
      ],
      "metadata": {
        "id": "6Z-YXOLcIdYm"
      }
    },
    {
      "cell_type": "code",
      "source": [
        "import matplotlib.pyplot as plt\n",
        "import seaborn as sns\n",
        "from sklearn.metrics import confusion_matrix, accuracy_score\n"
      ],
      "metadata": {
        "id": "sXx-SRUW-QfQ"
      },
      "execution_count": 66,
      "outputs": []
    },
    {
      "cell_type": "markdown",
      "source": [
        " **Bar Chart of Accuracy Score**"
      ],
      "metadata": {
        "id": "IeoOVdSYIvb_"
      }
    },
    {
      "cell_type": "code",
      "source": [
        "accuracy_cat = accuracy_score(y_test_cat, y_pred_cat)\n",
        "accuracy_dur = accuracy_score(y_test_dur, y_pred_dur)\n",
        "accuracy_lang = accuracy_score(y_test_lang, y_pred_lang)\n",
        "\n",
        "models = ['Category', 'Duration', 'Language']\n",
        "accuracies = [accuracy_cat, accuracy_dur, accuracy_lang]\n",
        "\n",
        "plt.figure(figsize=(8,5))\n",
        "plt.bar(models, accuracies, color=['lightgreen','salmon','skyblue'])\n",
        "plt.ylim(0, 1)\n",
        "plt.ylabel('Accuracy')\n",
        "plt.title('Comparison of YouTube ML Models')\n",
        "for i, v in enumerate(accuracies):\n",
        "    plt.text(i, v + 0.01, str(round(v,2)), ha='center', fontweight='bold')\n",
        "plt.show()\n"
      ],
      "metadata": {
        "colab": {
          "base_uri": "https://localhost:8080/",
          "height": 468
        },
        "id": "2ZJN4P88Ib2d",
        "outputId": "8eb62e69-5b8e-4233-a725-2bdcd07fd9ae"
      },
      "execution_count": 67,
      "outputs": [
        {
          "output_type": "display_data",
          "data": {
            "text/plain": [
              "<Figure size 800x500 with 1 Axes>"
            ],
            "image/png": "[encoded data removed]"
          },
          "metadata": {}
        }
      ]
    },
    {
      "cell_type": "markdown",
      "source": [
        "**Confusion Matrix For three models**"
      ],
      "metadata": {
        "id": "PqrO5hEaKa_T"
      }
    },
    {
      "cell_type": "code",
      "source": [
        "def plot_confusion(y_true, y_pred, labels, title):\n",
        "    cm = confusion_matrix(y_true, y_pred, labels=labels)\n",
        "    plt.figure(figsize=(6,5))\n",
        "    sns.heatmap(cm, annot=True, fmt='d', cmap='Blues', xticklabels=labels, yticklabels=labels)\n",
        "    plt.title(title)\n",
        "    plt.xlabel('Predicted')\n",
        "    plt.ylabel('Actual')\n",
        "    plt.show()\n",
        "\n",
        "# Category Model\n",
        "plot_confusion(y_test_cat, y_pred_cat, labels=list(y_test_cat.unique()), title=\"Category Model Confusion Matrix\")\n",
        "\n",
        "# Duration Model\n",
        "labels_duration = sorted(y_test_dur.unique())  # automatically get present classes\n",
        "plot_confusion(y_test_dur, y_pred_dur, labels=labels_duration, title=\"Duration Model Confusion Matrix\")\n",
        "\n",
        "\n",
        "# Language Model\n",
        "plot_confusion(y_test_lang, y_pred_lang, labels=list(y_test_lang.unique()), title=\"Language Model Confusion Matrix\")\n"
      ],
      "metadata": {
        "colab": {
          "base_uri": "https://localhost:8080/",
          "height": 1000
        },
        "id": "qySg6hlUIqFh",
        "outputId": "26b36f7c-21ed-47bb-95f7-a4666931ebbb"
      },
      "execution_count": 72,
      "outputs": [
        {
          "output_type": "display_data",
          "data": {
            "text/plain": [
              "<Figure size 600x500 with 2 Axes>"
            ],
            "image/png": "[encoded data removed]"
          },
          "metadata": {}
        },
        {
          "output_type": "display_data",
          "data": {
            "text/plain": [
              "<Figure size 600x500 with 2 Axes>"
            ],
            "image/png": "[encoded data removed]"
          },
          "metadata": {}
        },
        {
          "output_type": "display_data",
          "data": {
            "text/plain": [
              "<Figure size 600x500 with 2 Axes>"
            ],
            "image/png": "[encoded data removed]"
          },
          "metadata": {}
        }
      ]
    },
    {
      "cell_type": "code",
      "source": [],
      "metadata": {
        "id": "gFUKlYBgJ9GJ"
      },
      "execution_count": null,
      "outputs": []
    }
  ]
}
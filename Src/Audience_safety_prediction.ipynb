{
  "nbformat": 4,
  "nbformat_minor": 0,
  "metadata": {
    "colab": {
      "provenance": []
    },
    "kernelspec": {
      "name": "python3",
      "display_name": "Python 3"
    },
    "language_info": {
      "name": "python"
    }
  },
  "cells": [
    {
      "cell_type": "code",
      "execution_count": 1,
      "metadata": {
        "colab": {
          "base_uri": "https://localhost:8080/"
        },
        "id": "734Sfwm3U1-O",
        "outputId": "a293dc3f-feee-41cc-aed8-f8c5e49d9829"
      },
      "outputs": [
        {
          "output_type": "stream",
          "name": "stdout",
          "text": [
            "Accuracy: 0.9895038167938931\n",
            "              precision    recall  f1-score   support\n",
            "\n",
            "   kids_safe       0.99      1.00      0.99      2074\n",
            "    not_safe       0.00      0.00      0.00        22\n",
            "\n",
            "    accuracy                           0.99      2096\n",
            "   macro avg       0.49      0.50      0.50      2096\n",
            "weighted avg       0.98      0.99      0.98      2096\n",
            "\n",
            "('kids_safe', np.float64(0.9902302387706253))\n",
            "('kids_safe', np.float64(0.9831990807429795))\n"
          ]
        },
        {
          "output_type": "stream",
          "name": "stderr",
          "text": [
            "/usr/local/lib/python3.12/dist-packages/sklearn/metrics/_classification.py:1565: UndefinedMetricWarning: Precision is ill-defined and being set to 0.0 in labels with no predicted samples. Use `zero_division` parameter to control this behavior.\n",
            "  _warn_prf(average, modifier, f\"{metric.capitalize()} is\", len(result))\n",
            "/usr/local/lib/python3.12/dist-packages/sklearn/metrics/_classification.py:1565: UndefinedMetricWarning: Precision is ill-defined and being set to 0.0 in labels with no predicted samples. Use `zero_division` parameter to control this behavior.\n",
            "  _warn_prf(average, modifier, f\"{metric.capitalize()} is\", len(result))\n",
            "/usr/local/lib/python3.12/dist-packages/sklearn/metrics/_classification.py:1565: UndefinedMetricWarning: Precision is ill-defined and being set to 0.0 in labels with no predicted samples. Use `zero_division` parameter to control this behavior.\n",
            "  _warn_prf(average, modifier, f\"{metric.capitalize()} is\", len(result))\n"
          ]
        }
      ],
      "source": [
        "import pandas as pd\n",
        "from sklearn.model_selection import train_test_split\n",
        "from sklearn.feature_extraction.text import TfidfVectorizer\n",
        "from sklearn.linear_model import LogisticRegression\n",
        "from sklearn.pipeline import Pipeline\n",
        "from sklearn.metrics import classification_report, accuracy_score\n",
        "\n",
        "# --------------------------\n",
        "# 1. Load CSVs\n",
        "# --------------------------\n",
        "df1 = pd.read_csv(\"channel_master_cleaned.csv\")\n",
        "df2 = pd.read_csv(\"video_summary(clean data)byDE(RR).csv\")\n",
        "df = pd.concat([df1, df2], ignore_index=True)\n",
        "\n",
        "# --------------------------\n",
        "# 2. Clean NaNs and create text field\n",
        "# --------------------------\n",
        "df['title'] = df['title'].fillna('')\n",
        "df['shortdescription'] = df['shortdescription'].fillna('')\n",
        "df['text'] = df['title'].astype(str) + \" \" + df['shortdescription'].astype(str)\n",
        "\n",
        "# --------------------------\n",
        "# 3. Safety labeling rules\n",
        "# --------------------------\n",
        "unsafe_keywords = [\n",
        "    \"violence\", \"kill\", \"murder\", \"fight\", \"sex\", \"porn\", \"gambling\",\n",
        "    \"drugs\", \"weapon\", \"alcohol\", \"blood\", \"suicide\", \"nsfw\"\n",
        "]\n",
        "\n",
        "def assign_safety(text):\n",
        "    t = text.lower()\n",
        "    for word in unsafe_keywords:\n",
        "        if word in t:\n",
        "            return \"not_safe\"\n",
        "    return \"kids_safe\"\n",
        "\n",
        "df['safety'] = df['text'].apply(assign_safety)\n",
        "\n",
        "# --------------------------\n",
        "# 4. Train/Test Split\n",
        "# --------------------------\n",
        "X = df['text']\n",
        "y = df['safety']\n",
        "\n",
        "X_train, X_test, y_train, y_test = train_test_split(X, y, test_size=0.2, random_state=42)\n",
        "\n",
        "# --------------------------\n",
        "# 5. Build ML Pipeline\n",
        "# --------------------------\n",
        "model = Pipeline([\n",
        "    ('tfidf', TfidfVectorizer(stop_words='english')),\n",
        "    ('clf', LogisticRegression(max_iter=200))\n",
        "])\n",
        "\n",
        "# Train model\n",
        "model.fit(X_train, y_train)\n",
        "\n",
        "# --------------------------\n",
        "# 6. Evaluate\n",
        "# --------------------------\n",
        "y_pred = model.predict(X_test)\n",
        "print(\"Accuracy:\", accuracy_score(y_test, y_pred))\n",
        "print(classification_report(y_test, y_pred))\n",
        "\n",
        "# --------------------------\n",
        "# 7. Predict for new video\n",
        "# --------------------------\n",
        "def predict_safety(title, description):\n",
        "    text = title + \" \" + description\n",
        "    pred = model.predict([text])[0]\n",
        "    prob = model.predict_proba([text]).max()\n",
        "    return pred, prob\n",
        "\n",
        "# Example test\n",
        "print(predict_safety(\"Fun science experiment for kids\", \"Learn how to make a volcano with baking soda\"))\n",
        "print(predict_safety(\"Violent fight caught on camera\", \"Shocking street fight with blood\"))\n"
      ]
    }
  ]
}